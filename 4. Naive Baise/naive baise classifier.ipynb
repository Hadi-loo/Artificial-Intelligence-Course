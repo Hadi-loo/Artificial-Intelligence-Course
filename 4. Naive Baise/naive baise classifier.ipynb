{
 "cells": [
  {
   "attachments": {},
   "cell_type": "markdown",
   "metadata": {},
   "source": [
    "# Hadi Babalou - 810199380"
   ]
  },
  {
   "attachments": {},
   "cell_type": "markdown",
   "metadata": {},
   "source": [
    "Artificial Intelligence - CA#03: *Game* - Spring 2023 \\\n",
    "In this notebook, we are going to implement a naive baise classifier to classify the given dataset. The dataset contains pictures of hand-written persian digits."
   ]
  },
  {
   "cell_type": "code",
   "execution_count": 90,
   "metadata": {},
   "outputs": [],
   "source": [
    "import pickle\n",
    "\n",
    "DATA_PATH = 'data.pkl'\n",
    "LABEL_PATH = 'label.pkl'\n",
    "NUM_OF_CLASSES = 10\n",
    "\n",
    "data_file = open(DATA_PATH, 'rb')\n",
    "label_file = open(LABEL_PATH, 'rb')\n",
    "\n",
    "data = pickle.load(data_file)\n",
    "label = pickle.load(label_file)\n",
    "\n",
    "data_file.close()\n",
    "label_file.close()"
   ]
  },
  {
   "attachments": {},
   "cell_type": "markdown",
   "metadata": {},
   "source": [
    "## Examining and Preprocessing the Data"
   ]
  },
  {
   "attachments": {},
   "cell_type": "markdown",
   "metadata": {},
   "source": [
    "First, we need to divide the dataset into two parts: train and test. We use the train part to train our model and the test part to evaluate the model. \n",
    "\n",
    "it's important to choose an appropriate ratio that allows for sufficient training of the model while also evaluating its performance on unseen data. \n",
    "\n",
    "The choice of the ratio depends on the size of the dataset. As a rule of thumb, a common split is to use 70% of the data for training and 30% for testing. However, if you have a large dataset, you may be able to use a smaller percentage for testing. \n",
    "\n",
    "It's also important to ensure that the data is split randomly, so that the training and testing sets are representative of the overall dataset. This can be done using techniques such as stratified sampling or k-fold cross-validation to ensure that the data is split in a way that preserves the distribution of the classes. \n",
    "\n",
    "Overall, the best ratio for dividing the data will depend on the specifics of your dataset and the goals of your analysis. It's important to experiment with different ratios and evaluate the performance of the model on both the training and testing sets to determine the optimal split."
   ]
  },
  {
   "cell_type": "code",
   "execution_count": 91,
   "metadata": {},
   "outputs": [],
   "source": [
    "from sklearn.utils import shuffle\n",
    "\n",
    "TRAIN_RATIO = 0.8\n",
    "TEST_RATIO = 0.2\n",
    "\n",
    "data, label = shuffle(data, label, random_state=0)\n",
    "\n",
    "train_data = data[:int(len(data) * TRAIN_RATIO)]\n",
    "train_label = label[:int(len(label) * TRAIN_RATIO)]\n",
    "\n",
    "test_data = data[int(len(data) * TRAIN_RATIO):]\n",
    "test_label = label[int(len(label) * TRAIN_RATIO):]\n"
   ]
  },
  {
   "attachments": {},
   "cell_type": "markdown",
   "metadata": {},
   "source": [
    "You can see a sample of the dataset below. \n",
    "\n",
    "Also ```min``` and ```max``` values for each feature - which are the pixel values - are shown below."
   ]
  },
  {
   "cell_type": "code",
   "execution_count": 92,
   "metadata": {},
   "outputs": [
    {
     "name": "stdout",
     "output_type": "stream",
     "text": [
      "min: 0\n",
      "max: 255\n"
     ]
    },
    {
     "data": {
      "image/png": "[encoded data removed]",
      "text/plain": [
       "<Figure size 640x480 with 1 Axes>"
      ]
     },
     "metadata": {},
     "output_type": "display_data"
    }
   ],
   "source": [
    "import matplotlib.pyplot as plt\n",
    "import random\n",
    "\n",
    "index = random.randint(0, len(train_data))\n",
    "plt.imshow(train_data[index], cmap='gray')\n",
    "plt.title(\"label=\" + str(train_label[index]))\n",
    "\n",
    "min = float('inf')\n",
    "max = float('-inf')\n",
    "for i in range(len(train_data)):\n",
    "    for j in range(len([train_data[i]])):\n",
    "        for k in range(len(train_data[i][j])):\n",
    "            if train_data[i][j][k] > max:\n",
    "                max = train_data[i][j][k]\n",
    "            elif train_data[i][j][k] < min:\n",
    "                min = train_data[i][j][k]\n",
    "\n",
    "print(\"min:\", min)\n",
    "print(\"max:\", max)\n"
   ]
  },
  {
   "attachments": {},
   "cell_type": "markdown",
   "metadata": {},
   "source": [
    "It is generally a good idea to make the size of all pictures the same during preprocessing when training a machine learning model because it ensures that the input data has a consistent format, which can make the model training process more efficient and effective. Here are a few reasons why:\n",
    "\n",
    "1. ```Standardization```: By resizing all images to the same size, you are standardizing the input data, which makes it easier to process and analyze. This ensures that the model sees consistent input data during training and avoids any variations in size that may negatively impact model performance.\n",
    "\n",
    "2. ```Memory Efficiency```: Having a consistent size of images allows the model to store the input data in a uniform format. This can help to reduce the memory usage and computational resources needed to process the images during training.\n",
    "\n",
    "3. ```Improved Accuracy```: When images are of different sizes, the model may not be able to extract important features or patterns from the image data. Resizing the images to a uniform size can help ensure that all important features are captured and provide a more accurate representation of the image data.\n",
    "\n",
    "4. ```Consistent Training```: By having consistent input data, the model can be trained more consistently and accurately, which can lead to better performance and more accurate predictions.\n",
    "\n",
    "In this notebook, we are going to resize all images to $ IMAGE\\_WIDTH \\times IMAGE\\_HEIGHT $ pixels using ```cv2.resize``` function. You can see a sample of the resized dataset below."
   ]
  },
  {
   "cell_type": "code",
   "execution_count": 93,
   "metadata": {},
   "outputs": [],
   "source": [
    "import numpy as np\n",
    "import pandas as pd\n",
    "import cv2\n",
    "\n",
    "IMAGE_WIDTH = 20\n",
    "IMAGE_HEIGHT = 20\n",
    "IMAGE_SIZE = IMAGE_WIDTH * IMAGE_HEIGHT\n",
    "IMAGE_SHAPE = (IMAGE_WIDTH, IMAGE_HEIGHT)\n",
    "\n",
    "for i in range(len(train_data)):\n",
    "    train_data[i] = cv2.resize(train_data[i], IMAGE_SHAPE, interpolation=cv2.INTER_AREA)\n",
    "\n",
    "for i in range(len(test_data)):\n",
    "    test_data[i] = cv2.resize(test_data[i], IMAGE_SHAPE, interpolation=cv2.INTER_AREA)\n"
   ]
  },
  {
   "cell_type": "code",
   "execution_count": 94,
   "metadata": {},
   "outputs": [
    {
     "data": {
      "text/plain": [
       "Text(0.5, 1.0, 'label=2')"
      ]
     },
     "execution_count": 94,
     "metadata": {},
     "output_type": "execute_result"
    },
    {
     "data": {
      "image/png": "[encoded data removed]",
      "text/plain": [
       "<Figure size 640x480 with 1 Axes>"
      ]
     },
     "metadata": {},
     "output_type": "display_data"
    }
   ],
   "source": [
    "index = random.randint(0, len(train_data))\n",
    "plt.imshow(train_data[index], cmap='gray')\n",
    "plt.title(\"label=\" + str(train_label[index]))"
   ]
  },
  {
   "cell_type": "code",
   "execution_count": 95,
   "metadata": {},
   "outputs": [
    {
     "name": "stdout",
     "output_type": "stream",
     "text": [
      "     666            \n",
      "   66666         666\n",
      "  6666         66666\n",
      " 6666          6666 \n",
      "66666         66666 \n",
      "6666        666666  \n",
      "66666  66 6666666   \n",
      "6666666666666666    \n",
      " 666666666666666    \n",
      "          66666     \n",
      "          6666      \n",
      "         66666      \n",
      "         6666       \n",
      "        66666       \n",
      "        6666        \n",
      "        6666        \n",
      "       6666         \n",
      "       6666         \n",
      "       666          \n",
      "       66           \n"
     ]
    }
   ],
   "source": [
    "def print_image(image, label):\n",
    "    for i in range(IMAGE_WIDTH):\n",
    "        for j in range(IMAGE_HEIGHT):\n",
    "            if image[i][j] > 0.5:\n",
    "                print (label, end=\"\")\n",
    "            else:\n",
    "                print(\" \", end=\"\")\n",
    "        print()\n",
    "\n",
    "index = random.randint(0, len(train_data))\n",
    "print_image(train_data[index], train_label[index])"
   ]
  },
  {
   "attachments": {},
   "cell_type": "markdown",
   "metadata": {},
   "source": [
    "You can see a sample of each class below."
   ]
  },
  {
   "cell_type": "code",
   "execution_count": 96,
   "metadata": {},
   "outputs": [
    {
     "data": {
      "image/png": "[encoded data removed]",
      "text/plain": [
       "<Figure size 400x1300 with 10 Axes>"
      ]
     },
     "metadata": {},
     "output_type": "display_data"
    }
   ],
   "source": [
    "fig = plt.figure(figsize=(4, 13))\n",
    "rows = 5\n",
    "columns = 2\n",
    "\n",
    "for i in range(NUM_OF_CLASSES):\n",
    "    for j in range(len(train_data)):\n",
    "        if train_label[j] == i:\n",
    "            fig.add_subplot(rows, columns, i+1)\n",
    "            plt.imshow(train_data[j], cmap='gray')\n",
    "            plt.title(\"label=\" + str(i))\n",
    "            break"
   ]
  },
  {
   "attachments": {},
   "cell_type": "markdown",
   "metadata": {},
   "source": [
    "In the following plots, you can see the number of samples for each class in the train and test sets."
   ]
  },
  {
   "cell_type": "code",
   "execution_count": 97,
   "metadata": {},
   "outputs": [
    {
     "data": {
      "image/png": "[encoded data removed]",
      "text/plain": [
       "<Figure size 1000x500 with 1 Axes>"
      ]
     },
     "metadata": {},
     "output_type": "display_data"
    }
   ],
   "source": [
    "train_unique, train_counts = np.unique(np.array(train_label), return_counts=True)\n",
    "\n",
    "fig = plt.figure(figsize=(10, 5))\n",
    "plt.bar(train_unique, train_counts, width=0.5)\n",
    "plt.xlabel(\"label\")\n",
    "plt.ylabel(\"count\")\n",
    "plt.title(\"label distribution in train dataset\")\n",
    "plt.show()"
   ]
  },
  {
   "cell_type": "code",
   "execution_count": 98,
   "metadata": {},
   "outputs": [
    {
     "data": {
      "image/png": "[encoded data removed]",
      "text/plain": [
       "<Figure size 1000x500 with 1 Axes>"
      ]
     },
     "metadata": {},
     "output_type": "display_data"
    }
   ],
   "source": [
    "test_unique, test_counts = np.unique(np.array(test_label), return_counts=True)\n",
    "\n",
    "fig = plt.figure(figsize=(10, 5))\n",
    "plt.bar(test_unique, test_counts, width=0.5)\n",
    "plt.xlabel(\"label\")\n",
    "plt.ylabel(\"count\")\n",
    "plt.title(\"label distribution in test dataset\")\n",
    "plt.show()"
   ]
  },
  {
   "attachments": {},
   "cell_type": "markdown",
   "metadata": {},
   "source": [
    "In the end of preprocessing, we normalize the data by dividing each pixel value by ```max-min``` which in this case is ```255```. This will make the model converge faster.\n",
    "\n",
    "Normalizing pixel values to be between 0 and 1 is an important preprocessing step in many machine learning tasks, especially in computer vision tasks such as image classification. It can help to avoid issues with weight updates, improve model performance, and make it easier to compare images with different pixel value ranges. \n",
    "\n",
    "If we don't normalize the data, some problems may occur. For example, the model may focus on the differences between the pixel values instead of the actual features in the image. This can lead to poor feature learning and poor model performance."
   ]
  },
  {
   "cell_type": "code",
   "execution_count": 99,
   "metadata": {},
   "outputs": [],
   "source": [
    "for i in range(len(train_data)):\n",
    "    train_data[i] = train_data[i] / (max - min)\n",
    "\n",
    "for i in range(len(test_data)):\n",
    "    test_data[i] = test_data[i] / (max - min)"
   ]
  },
  {
   "attachments": {},
   "cell_type": "markdown",
   "metadata": {},
   "source": [
    "## Naive Baise Classifier"
   ]
  },
  {
   "attachments": {},
   "cell_type": "markdown",
   "metadata": {},
   "source": [
    "In naive Bayes, the classification problem is framed as predicting the class label of an input instance based on its feature values. The algorithm assumes that the features are independent of each other, hence the term \"naive\". This assumption simplifies the calculation of the probability of a particular class given the feature values, making it computationally efficient.\n",
    "\n",
    "Naive Bayes works by first calculating the prior probability of each class based on its frequency in the training data. Then, for each feature value, it calculates the likelihood of that feature value given each class using a probability density function or a frequency count. Finally, it combines the prior probabilities and the likelihoods to calculate the posterior probability of each class given the feature values using Bayes' theorem. The class with the highest posterior probability is selected as the predicted class label.\n",
    "\n",
    "Naive Bayes is commonly used in text classification, spam filtering, sentiment analysis, and other applications where the features are categorical or continuous variables. Despite its simplicity and strong independence assumptions, naive Bayes has been shown to perform well in practice and can be a useful baseline algorithm for classification tasks."
   ]
  },
  {
   "attachments": {},
   "cell_type": "markdown",
   "metadata": {},
   "source": [
    "$$ P(c|X) = \\frac{P(X|c)P(c)}{P(X)} $$\n",
    "\n",
    "In the above equation, $c$ is the class label, $X$ is the feature vector, $P(c|X)$ is the posterior probability of class $c$ given the feature vector $X$, $P(X|c)$ is the likelihood of the feature vector $X$ given class $c$, $P(c)$ is the prior probability of class $c$, and $P(X)$ is the probability of the feature vector $X$.\n",
    "\n",
    "As we only need to find the class with the highest posterior probability, we can ignore the denominator $P(X)$ and focus on the numerator $P(X|c)P(c)$. This is known as the maximum a posteriori (MAP) estimate.\n",
    "\n",
    "Also $P(X|c)$ can be written as $P(x_1|c)P(x_2|c)...P(x_n|c)$ where $x_i$ is the $i$ th feature of the feature vector $X$, because we assume that the features are independent of each other. This is known as the naive Bayes assumption. so we can write: \n",
    "\n",
    "$$ P(c|X) = P(x_1|c)P(x_2|c)...P(x_n|c)P(c) $$"
   ]
  },
  {
   "attachments": {},
   "cell_type": "markdown",
   "metadata": {},
   "source": [
    "In this particular problem, each feature is a pixel value and each class is a digit. So:\n",
    "* Posterior probability is the probability of a digit given the pixel values of an image.\n",
    "* Prior probability is the probability of a digit in the dataset.\n",
    "* Likelihood is the probability of a pixel value given a digit.\n",
    "* Evidence is the probability of a image."
   ]
  },
  {
   "attachments": {},
   "cell_type": "markdown",
   "metadata": {},
   "source": [
    "We can calculate the prior probability of each class by dividing the number of samples in each class by the total number of samples in the dataset."
   ]
  },
  {
   "cell_type": "code",
   "execution_count": 100,
   "metadata": {},
   "outputs": [],
   "source": [
    "prior = [train_counts[i]/len(train_data) for i in range(NUM_OF_CLASSES)]\n"
   ]
  },
  {
   "attachments": {},
   "cell_type": "markdown",
   "metadata": {},
   "source": [
    "In this notebook, we are going to implement ```Gaussian Naive Baise``` and ```Bernoulli Naive Baise``` classifiers. \n",
    "\n",
    "They are both based on the naive Bayes assumption, but they differ in how they model the likelihood of the feature values given the class.\n",
    "\n",
    "In Gaussian Naive Baise, the likelihood of the feature values is modeled using a Gaussian distribution. This means that the feature values are assumed to be normally distributed around the mean value for each class. The parameters of the Gaussian distribution are estimated from the training data using maximum likelihood estimation.\n",
    "\n",
    "In Bernoulli Naive Baise, the likelihood of the feature values is modeled using a Bernoulli distribution. This means that the feature values are assumed to be binary variables that are either 0 or 1. The parameters of the Bernoulli distribution are estimated from the training data using maximum likelihood estimation."
   ]
  },
  {
   "attachments": {},
   "cell_type": "markdown",
   "metadata": {},
   "source": [
    "We need to calculate mean and standard deviation for each feature in each class for Gaussian Naive Baise."
   ]
  },
  {
   "cell_type": "code",
   "execution_count": 101,
   "metadata": {},
   "outputs": [],
   "source": [
    "import math\n",
    "\n",
    "# first we need to calculate the mean of each feature in each class\n",
    "sums = np.zeros((NUM_OF_CLASSES, IMAGE_WIDTH, IMAGE_HEIGHT))\n",
    "for i in range(len(train_data)):\n",
    "    for j in range(len(train_data[i])):\n",
    "        for k in range(len(train_data[i][j])):\n",
    "            sums[train_label[i]][j][k] += train_data[i][j][k]\n",
    "\n",
    "means = [sums[i]/train_counts[i] for i in range(NUM_OF_CLASSES)]\n",
    "\n",
    "# now we should calculate variances\n",
    "variances = np.zeros((NUM_OF_CLASSES, IMAGE_WIDTH, IMAGE_HEIGHT))\n",
    "for i in range(len(train_data)):\n",
    "    for j in range(IMAGE_WIDTH):\n",
    "        for k in range(IMAGE_HEIGHT):\n",
    "            variances[train_label[i]][j][k] += (train_data[i][j][k] - means[train_label[i]][j][k])**2\n",
    "\n",
    "variances = [variances[i]/train_counts[i] for i in range(NUM_OF_CLASSES)]\n"
   ]
  },
  {
   "attachments": {},
   "cell_type": "markdown",
   "metadata": {},
   "source": [
    "Also we need to calculate the probability of each pixel being on or off for each class for Bernoulli Naive Baise."
   ]
  },
  {
   "cell_type": "code",
   "execution_count": 102,
   "metadata": {},
   "outputs": [],
   "source": [
    "probabilities = np.zeros((NUM_OF_CLASSES, IMAGE_WIDTH, IMAGE_HEIGHT))\n",
    "for i in range(len(train_data)):\n",
    "    for j in range(IMAGE_WIDTH):\n",
    "        for k in range(IMAGE_HEIGHT):\n",
    "            xi = 1 if train_data[i][j][k] > 0.5 else 0\n",
    "            probabilities[train_label[i]][j][k] += xi\n",
    "\n",
    "probabilities = [probabilities[i]/train_counts[i] for i in range(NUM_OF_CLASSES)]"
   ]
  },
  {
   "attachments": {},
   "cell_type": "markdown",
   "metadata": {},
   "source": [
    "You can see an average image for each class below."
   ]
  },
  {
   "cell_type": "code",
   "execution_count": 103,
   "metadata": {},
   "outputs": [
    {
     "name": "stdout",
     "output_type": "stream",
     "text": [
      "       00000000     \n",
      "      0000000000    \n",
      "    0000000000000   \n",
      "   000000000000000  \n",
      "  00000000000000000 \n",
      "  00000000000000000 \n",
      " 0000000000000000000\n",
      "00000000000000000000\n",
      "000000000   00000000\n",
      "00000000     0000000\n",
      "00000000     0000000\n",
      "00000000    00000000\n",
      "000000000  000000000\n",
      "0000000000000000000 \n",
      "000000000000000000  \n",
      " 00000000000000000  \n",
      "  000000000000000   \n",
      "   0000000000000    \n",
      "    0000000000      \n",
      "     00000000       \n",
      "\n",
      "=====================================\n",
      "\n",
      "  11111             \n",
      "1111111111          \n",
      "11111111111         \n",
      "111111111111        \n",
      "  1111111111        \n",
      "   1111111111       \n",
      "   11111111111      \n",
      "   11111111111      \n",
      "    11111111111     \n",
      "    111111111111    \n",
      "     11111111111    \n",
      "      11111111111   \n",
      "      11111111111   \n",
      "       1111111111   \n",
      "        1111111111  \n",
      "        1111111111  \n",
      "         1111111111 \n",
      "          1111111111\n",
      "           111111111\n",
      "              1111  \n",
      "\n",
      "=====================================\n",
      "\n",
      "                222 \n",
      "               22222\n",
      "22222          22222\n",
      "222222        22222 \n",
      " 222222     222222  \n",
      " 2222222222222222   \n",
      "  22222222222       \n",
      "   22222222         \n",
      "    222222          \n",
      "    222222          \n",
      "     22222          \n",
      "     222222         \n",
      "      22222         \n",
      "      22222         \n",
      "       2222         \n",
      "        222         \n",
      "        222         \n",
      "                    \n",
      "                    \n",
      "                    \n",
      "\n",
      "=====================================\n",
      "\n",
      "                  3 \n",
      "          3      333\n",
      " 33      333     333\n",
      "3333    33333   333 \n",
      "33333  333333 33333 \n",
      " 33333333333333333  \n",
      " 33333333  33333    \n",
      "  33333             \n",
      "   3333             \n",
      "   3333             \n",
      "    333             \n",
      "    3333            \n",
      "     333            \n",
      "     333            \n",
      "     333            \n",
      "      33            \n",
      "                    \n",
      "                    \n",
      "                    \n",
      "                    \n",
      "\n",
      "=====================================\n",
      "\n",
      "               4    \n",
      "           444444   \n",
      "          4444      \n",
      "         4444       \n",
      " 444    4444        \n",
      " 44444444444        \n",
      " 4444444444444      \n",
      " 4444444444444444   \n",
      "  444444   444444   \n",
      "  44444             \n",
      "   4444             \n",
      "   4444             \n",
      "   4444             \n",
      "    444             \n",
      "     444            \n",
      "      4             \n",
      "                    \n",
      "       44           \n",
      "                    \n",
      "                    \n",
      "\n",
      "=====================================\n",
      "\n",
      "                    \n",
      "          5         \n",
      "       55555        \n",
      "       555555       \n",
      "      55555555      \n",
      "     555555555      \n",
      "    555    5555     \n",
      "   555      5555    \n",
      "  555        5555   \n",
      " 5555         5555  \n",
      " 555           555  \n",
      " 555           5555 \n",
      "5555            555 \n",
      "555             5555\n",
      "555       5     5555\n",
      "555      5555   5555\n",
      " 555    555555555555\n",
      " 555555555555555555 \n",
      "  5555555555555555  \n",
      "    555             \n",
      "\n",
      "=====================================\n",
      "\n",
      "                    \n",
      "   66666            \n",
      "  66666             \n",
      " 6666           666 \n",
      " 666          66666 \n",
      " 666         66666  \n",
      " 666        66666   \n",
      " 6666     666666    \n",
      "  66666666666666    \n",
      "        6666666     \n",
      "        66666       \n",
      "        6666        \n",
      "        666         \n",
      "        6           \n",
      "                    \n",
      "                    \n",
      "                    \n",
      "                    \n",
      "                    \n",
      "                    \n",
      "\n",
      "=====================================\n",
      "\n",
      "                  7 \n",
      "                 777\n",
      " 7              7777\n",
      " 77            7777 \n",
      " 777           777  \n",
      " 777          7777  \n",
      " 7777         777   \n",
      " 7777        7777   \n",
      "  7777       777    \n",
      "   777      7777    \n",
      "   7777    7777     \n",
      "    7777   7777     \n",
      "    7777777777      \n",
      "     777777777      \n",
      "     77777777       \n",
      "      7777777       \n",
      "      777777        \n",
      "       77777        \n",
      "       7777         \n",
      "                    \n",
      "\n",
      "=====================================\n",
      "\n",
      "                    \n",
      "       8888         \n",
      "       88888        \n",
      "      888888        \n",
      "      888888        \n",
      "     88888888       \n",
      "     88888888       \n",
      "    8888888888      \n",
      "    8888   888      \n",
      "   8888    8888     \n",
      "   8888     888     \n",
      "  8888      8888    \n",
      "  8888       8888   \n",
      " 8888        8888   \n",
      " 8888         8888  \n",
      " 888           888  \n",
      "8888           8888 \n",
      "888             8888\n",
      " 8               888\n",
      "                  8 \n",
      "\n",
      "=====================================\n",
      "\n",
      "        9999        \n",
      "    9999999999      \n",
      "   999999999999     \n",
      " 99999      999     \n",
      " 9999       9999    \n",
      "9999        9999    \n",
      "9999       99999    \n",
      " 99999 999999999    \n",
      "  99999999999999    \n",
      "           999999   \n",
      "            99999   \n",
      "             9999   \n",
      "             9999   \n",
      "             9999   \n",
      "              9999  \n",
      "              9999  \n",
      "              99999 \n",
      "               9999 \n",
      "                9999\n",
      "                 999\n",
      "\n",
      "=====================================\n",
      "\n"
     ]
    }
   ],
   "source": [
    "for digit in range(NUM_OF_CLASSES): \n",
    "    print_image(probabilities[digit], digit)\n",
    "    print()\n",
    "    print(\"=====================================\")\n",
    "    print()\n",
    "            "
   ]
  },
  {
   "cell_type": "code",
   "execution_count": 104,
   "metadata": {},
   "outputs": [
    {
     "data": {
      "image/png": "[encoded data removed]",
      "text/plain": [
       "<Figure size 400x1300 with 10 Axes>"
      ]
     },
     "metadata": {},
     "output_type": "display_data"
    }
   ],
   "source": [
    "fig = plt.figure(figsize=(4, 13))\n",
    "rows = 5\n",
    "columns = 2\n",
    "\n",
    "for digit in range(NUM_OF_CLASSES):\n",
    "    fig.add_subplot(rows, columns, digit+1)\n",
    "    plt.imshow(probabilities[digit], cmap='gray')\n",
    "    plt.title(\"label=\" + str(digit))"
   ]
  },
  {
   "attachments": {},
   "cell_type": "markdown",
   "metadata": {},
   "source": [
    "### Gaussian Naive Baise"
   ]
  },
  {
   "attachments": {},
   "cell_type": "markdown",
   "metadata": {},
   "source": [
    "In Gaussian Naive Baise, the likelihood of the feature values is calculated using the probability density function of a Gaussian distribution. The parameters of the Gaussian distribution are estimated from the training data using maximum likelihood estimation.\n",
    "$$ P(x_i|c) = \\frac{1}{\\sqrt{2\\pi\\sigma^{2}_{c}}}e^{-\\frac{(x_i-\\mu_{c})^2}{2\\sigma^{2}_{c}}} $$"
   ]
  },
  {
   "attachments": {},
   "cell_type": "markdown",
   "metadata": {},
   "source": [
    "As you can see, if the variance of the Gaussian distribution be zero, we will have division by zero. so we add a small value to the variance to avoid this problem. This is known as ```Laplace smoothing```."
   ]
  },
  {
   "cell_type": "code",
   "execution_count": 105,
   "metadata": {},
   "outputs": [],
   "source": [
    "SMOOTHING_EPSILON = 0.0001\n",
    "variances = [variances[i] + SMOOTHING_EPSILON for i in range(NUM_OF_CLASSES)]"
   ]
  },
  {
   "attachments": {},
   "cell_type": "markdown",
   "metadata": {},
   "source": [
    "Now we can calculate the posterior probability of each class given the feature vector $X$ using the naive Bayes assumption and the maximum a posteriori (MAP) estimate.\n",
    "\n",
    "As you can see, we have a product of probabilities in the above equation. This can lead to underflow issues when the number of features is large. To avoid this problem, we can take the logarithm of the posterior probability and use the sum of logarithms instead of the product of probabilities.\n"
   ]
  },
  {
   "attachments": {},
   "cell_type": "markdown",
   "metadata": {},
   "source": [
    "Also if we have a feature value that is not in the training data, the likelihood of that feature value given a class will be zero. This will cause the posterior probability to be zero. To avoid this problem, we use smoothing techniques. \n",
    "\n",
    "There are several types of smoothing techniques, including:\n",
    "\n",
    "1.  Laplace smoothing: Laplace smoothing, also known as additive smoothing, is a technique used to smooth categorical data by adding a small constant value to the count of each category. This helps to avoid zero probabilities and ensures that the estimated probabilities are non-zero for all categories.\n",
    "\n",
    "2.  Lidstone smoothing: Lidstone smoothing is a generalization of Laplace smoothing that allows for a larger smoothing parameter. The parameter can be any real number between 0 and 1, where 0 corresponds to no smoothing and 1 corresponds to Laplace smoothing.\n",
    "\n",
    "3.  Kernel smoothing: Kernel smoothing is a technique used to smooth continuous data by averaging nearby data points using a kernel function. The kernel function assigns weights to each data point based on its distance from the point being estimated. This technique is commonly used in density estimation and non-parametric regression.\n",
    "\n",
    "4.  Moving average smoothing: Moving average smoothing is a technique used to smooth time-series data by calculating the average of a window of adjacent data points. The size of the window is a parameter that can be adjusted to control the amount of smoothing.\n",
    "\n",
    "5.  Exponential smoothing: Exponential smoothing is a technique used to smooth time-series data by assigning exponentially decreasing weights to past observations. The weights decrease exponentially with the age of the observation, with more recent observations having a higher weight.\n"
   ]
  },
  {
   "cell_type": "code",
   "execution_count": 106,
   "metadata": {},
   "outputs": [],
   "source": [
    "# now we should calculate the likelihood of each class\n",
    "likelihood_gaussian_with_smoothing = np.zeros((len(test_data), NUM_OF_CLASSES))\n",
    "likelihood_gaussian_without_smoothing = np.zeros((len(test_data), NUM_OF_CLASSES))\n",
    "\n",
    "# first we initialize likelihood with prior probabillities\n",
    "for i in range(len(test_data)):\n",
    "    for j in range(NUM_OF_CLASSES):\n",
    "        likelihood_gaussian_with_smoothing[i][j] = math.log10(prior[j])\n",
    "        likelihood_gaussian_without_smoothing[i][j] = math.log10(prior[j])\n",
    "\n",
    "TERM_EPSILON = 1e-99\n",
    "\n",
    "# now we calculate the likelihood\n",
    "for i in range(len(test_data)):\n",
    "    for j in range(NUM_OF_CLASSES):\n",
    "        for k in range(IMAGE_WIDTH):\n",
    "            for l in range(IMAGE_HEIGHT):\n",
    "\n",
    "                constant = 1 / np.sqrt(2 * np.pi * variances[j][k][l])\n",
    "                numerator = (test_data[i][k][l] - means[j][k][l]) ** 2\n",
    "                denominator = 2 * variances[j][k][l]\n",
    "                term = math.log10(constant) - numerator / denominator\n",
    "                likelihood_gaussian_without_smoothing[i][j] += term\n",
    "\n",
    "                # smoothing\n",
    "                if term < math.log10(TERM_EPSILON):\n",
    "                    term = math.log10(TERM_EPSILON)\n",
    "                likelihood_gaussian_with_smoothing[i][j] += term\n"
   ]
  },
  {
   "attachments": {},
   "cell_type": "markdown",
   "metadata": {},
   "source": [
    "You can see a sample image, its predicted class label, its true class label, and its corresponding posterior probabilities below."
   ]
  },
  {
   "cell_type": "code",
   "execution_count": 107,
   "metadata": {},
   "outputs": [
    {
     "name": "stdout",
     "output_type": "stream",
     "text": [
      "digit 0 probability = 0.0\n",
      "digit 1 probability = 2.9211998042036595e-287\n",
      "digit 2 probability = 0.0\n",
      "digit 3 probability = 0.0\n",
      "digit 4 probability = 0.0\n",
      "digit 5 probability = 2.3774059545135105e-305\n",
      "digit 6 probability = 1.3026348193978414e-150\n",
      "digit 7 probability = 0.0\n",
      "digit 8 probability = 4.3236358157718973e-302\n",
      "digit 9 probability = 1.0\n"
     ]
    },
    {
     "data": {
      "image/png": "[encoded data removed]",
      "text/plain": [
       "<Figure size 640x480 with 1 Axes>"
      ]
     },
     "metadata": {},
     "output_type": "display_data"
    }
   ],
   "source": [
    "index = random.randint(0, len(test_data))\n",
    "plt.imshow(test_data[index], cmap='gray')\n",
    "plt.title(\"label=\" + str(test_label[index]) + \", predicted=\" + str(np.argmax(likelihood_gaussian_with_smoothing[index])))    \n",
    "\n",
    "sample_probabilities = np.exp(likelihood_gaussian_with_smoothing[index])\n",
    "sample_probabilities = sample_probabilities / np.sum(sample_probabilities)\n",
    "for i in range(NUM_OF_CLASSES):\n",
    "    print(\"digit\", i, \"probability =\", sample_probabilities[i])"
   ]
  },
  {
   "attachments": {},
   "cell_type": "markdown",
   "metadata": {},
   "source": [
    "### Bernoulli Naive Baise"
   ]
  },
  {
   "attachments": {},
   "cell_type": "markdown",
   "metadata": {},
   "source": [
    "In Bernoulli Naive Baise, the likelihood of the feature values is calculated using the probability mass function of a Bernoulli distribution. The parameters of the Bernoulli distribution are estimated from the training data using maximum likelihood estimation.\n",
    "$$ P(x_i|c) = P(x_i|c)^{x_i}(1-P(x_i|c))^{1-x_i} $$"
   ]
  },
  {
   "attachments": {},
   "cell_type": "markdown",
   "metadata": {},
   "source": [
    "We should use the logarithm of the posterior probability and use the sum of logarithms instead of the product of probabilities to avoid underflow issues. Also we should use smoothing techniques to avoid zero probabilities."
   ]
  },
  {
   "cell_type": "code",
   "execution_count": 108,
   "metadata": {},
   "outputs": [],
   "source": [
    "# now we should calculate the likelihood of each class\n",
    "likelihood_bernoulli_with_smoothing = np.zeros((len(test_data), NUM_OF_CLASSES))\n",
    "likelihood_bernoulli_without_smoothing = np.zeros((len(test_data), NUM_OF_CLASSES))\n",
    "\n",
    "# first we initialize likelihood with prior probabillities\n",
    "for i in range(len(test_data)):\n",
    "    for j in range(NUM_OF_CLASSES):\n",
    "        likelihood_bernoulli_with_smoothing[i][j] = math.log10(prior[j])\n",
    "        likelihood_bernoulli_without_smoothing[i][j] = math.log10(prior[j])\n",
    "\n",
    "LOG_DOMAIN_EPSILON = 1e-129\n",
    "TERM_EPSILON = 1e-99\n",
    "\n",
    "# now we calculate the likelihood\n",
    "for i in range(len(test_data)):\n",
    "    for j in range(NUM_OF_CLASSES):\n",
    "        for k in range(IMAGE_WIDTH):\n",
    "            for l in range(IMAGE_HEIGHT):\n",
    "                \n",
    "                if test_data[i][k][l] > 0.5:\n",
    "                    if probabilities[j][k][l] < LOG_DOMAIN_EPSILON:\n",
    "                        term = math.log10(LOG_DOMAIN_EPSILON)\n",
    "                    else:\n",
    "                        term = math.log10(probabilities[j][k][l])\n",
    "                    likelihood_bernoulli_without_smoothing[i][j] += term\n",
    "\n",
    "                    # smoothing\n",
    "                    if probabilities[j][k][l] < TERM_EPSILON:\n",
    "                        term = math.log10(TERM_EPSILON)                        \n",
    "                    likelihood_bernoulli_with_smoothing[i][j] += term\n",
    "\n",
    "                else:\n",
    "                    if 1 - probabilities[j][k][l] < LOG_DOMAIN_EPSILON:\n",
    "                        term = math.log10(LOG_DOMAIN_EPSILON)\n",
    "                    else:\n",
    "                        term = math.log10(1 - probabilities[j][k][l])\n",
    "                    likelihood_bernoulli_without_smoothing[i][j] += term\n",
    "\n",
    "                    # smoothing\n",
    "                    if probabilities[j][k][l] > 1 - TERM_EPSILON:\n",
    "                        term = math.log10(TERM_EPSILON)\n",
    "                    likelihood_bernoulli_with_smoothing[i][j] += term\n"
   ]
  },
  {
   "cell_type": "code",
   "execution_count": 109,
   "metadata": {},
   "outputs": [
    {
     "name": "stdout",
     "output_type": "stream",
     "text": [
      "digit 0 probability = 2.3065310174518762e-38\n",
      "digit 1 probability = 6.827414451307619e-29\n",
      "digit 2 probability = 3.2115762497759417e-137\n",
      "digit 3 probability = 4.8920089488896197e-144\n",
      "digit 4 probability = 2.0135181189883804e-13\n",
      "digit 5 probability = 3.3189341605717037e-19\n",
      "digit 6 probability = 3.4640876274112745e-08\n",
      "digit 7 probability = 0.9999999653589223\n",
      "digit 8 probability = 0.0\n",
      "digit 9 probability = 6.948792085305001e-80\n"
     ]
    },
    {
     "data": {
      "image/png": "[encoded data removed]",
      "text/plain": [
       "<Figure size 640x480 with 1 Axes>"
      ]
     },
     "metadata": {},
     "output_type": "display_data"
    }
   ],
   "source": [
    "index = random.randint(0, len(test_data))\n",
    "plt.imshow(test_data[index], cmap='gray')\n",
    "plt.title(\"label=\" + str(test_label[index]) + \", predicted=\" + str(np.argmax(likelihood_bernoulli_with_smoothing[index])))  \n",
    "\n",
    "sample_probabilities = np.exp(likelihood_bernoulli_with_smoothing[index])\n",
    "sample_probabilities = sample_probabilities / np.sum(sample_probabilities)\n",
    "for i in range(NUM_OF_CLASSES):\n",
    "    print(\"digit\", i, \"probability =\", sample_probabilities[i])\n"
   ]
  },
  {
   "attachments": {},
   "cell_type": "markdown",
   "metadata": {},
   "source": [
    "## Evaluation"
   ]
  },
  {
   "attachments": {},
   "cell_type": "markdown",
   "metadata": {},
   "source": [
    "### Metrics"
   ]
  },
  {
   "attachments": {},
   "cell_type": "markdown",
   "metadata": {},
   "source": [
    "We will use 4 metrics to evaluate our classifiers:\n",
    "\n",
    "$$ Accuracy = \\frac{Number\\ of\\ correct\\ predictions}{Total\\ number\\ of\\ predictions} $$\n",
    "\n",
    "$$ Precision = \\frac{Correct\\ detections\\ of\\ a\\ class}{Total\\ detections\\ of\\ that\\ class} $$\n",
    "\n",
    "$$ Recall = \\frac{Correct\\ detections\\ of\\ a\\ class}{Total\\ samples\\ of\\ that\\ class} $$\n",
    "\n",
    "$$ F1\\ score = 2 * \\frac{Precision * Recall}{Precision + Recall} $$"
   ]
  },
  {
   "attachments": {},
   "cell_type": "markdown",
   "metadata": {},
   "source": [
    "Precision and recall are useful metrics for evaluating the performance of a model, particularly in binary classification problems where the goal is to predict whether an instance belongs to a positive or negative class. However, they may not be sufficient on their own to fully evaluate the performance of a model for several reasons.\n",
    "\n",
    "One reason is that precision and recall can be optimized independently of each other, and in some cases, optimizing one may come at the cost of the other. For example, a classifier that always predicts the positive class will have perfect recall but zero precision, while a classifier that always predicts the negative class will have perfect precision but zero recall. In both cases, the overall performance of the model would be poor, but looking at precision or recall alone would give an incomplete picture of the model's performance.\n",
    "\n",
    "Another reason is that precision and recall do not take into account the relative importance of false positives and false negatives. In some applications, such as medical diagnosis, false negatives may be more harmful than false positives, while in other applications, such as fraud detection, false positives may be more harmful than false negatives. In such cases, additional metrics such as the F1 score or the area under the ROC curve (AUC) may provide a more comprehensive evaluation of the model's performance.\n",
    "\n",
    "For example, let's say we have a model that predicts whether a customer is likely to buy a product or not. The model has a precision of 80% but a recall of only 20%. This means that the model is good at identifying customers who are likely to buy the product (high precision) but is missing a lot of potential customers who would have bought the product (low recall). In this case, looking at precision alone would suggest that the model is good, but the overall performance of the model would be poor. To get a better understanding of the model's performance, we would need to look at additional metrics such as the F1 score or the AUC."
   ]
  },
  {
   "attachments": {},
   "cell_type": "markdown",
   "metadata": {},
   "source": [
    "### F1 Score"
   ]
  },
  {
   "attachments": {},
   "cell_type": "markdown",
   "metadata": {},
   "source": [
    "The F1 score is a harmonic mean of precision and recall.\n",
    "\n",
    "The reason why the F1 score uses the harmonic mean instead of other types of means, such as the arithmetic mean, is that it gives more weight to low values. In other words, the F1 score is more sensitive to cases where either precision or recall is low.\n",
    "\n",
    "The harmonic mean is defined as the reciprocal of the arithmetic mean of the reciprocals of a set of values. The formula for calculating the harmonic mean of n values is:\n",
    "\n",
    "$$ Harmonic\\ mean = \\frac{n}{\\frac{1}{x_1} + \\frac{1}{x_2} + ... + \\frac{1}{x_n}} $$\n",
    "\n",
    "Compared to the arithmetic mean, the harmonic mean gives more weight to low values and less weight to high values. This means that if one of the values in the set is very small, the harmonic mean will be closer to that small value than the arithmetic mean would be. This property makes the harmonic mean a better choice for cases where we want to emphasize the importance of low values, such as in the case of the F1 score.\n",
    "\n",
    "This is important because in many classification problems, the cost of false positives and false negatives may not be equal, and it is important to consider both precision and recall together to get a comprehensive picture of the model's performance."
   ]
  },
  {
   "attachments": {},
   "cell_type": "markdown",
   "metadata": {},
   "source": [
    "### Multi-class Metrics"
   ]
  },
  {
   "attachments": {},
   "cell_type": "markdown",
   "metadata": {},
   "source": [
    "We will use 3 types of averaging to calculate the metrics for multi-class classification problems:\n",
    "\n",
    "* **Macro-averaged metrics**: These are metrics that are computed by taking the average of the metric for each class. For example, the macro-averaged precision is the average of the precision for each class. This approach treats each class equally, regardless of its frequency or importance.\n",
    "\n",
    "* **Micro-averaged metrics**: These are metrics that are computed by aggregating the true positives, false positives, and false negatives across all classes, and then computing the metric. For example, the micro-averaged precision is the number of true positives across all classes divided by the number of instances classified as positive across all classes. This approach treats each instance equally, regardless of its class.\n",
    "\n",
    "* **Weighted-average metrics**: These are metrics that are computed by taking the weighted average of the metric for each class, where the weight is the number of instances in each class. For example, the weighted-average precision is the average of the precision for each class, weighted by the number of instances in each class."
   ]
  },
  {
   "attachments": {},
   "cell_type": "markdown",
   "metadata": {},
   "source": [
    "### Calculating Metrics"
   ]
  },
  {
   "attachments": {},
   "cell_type": "markdown",
   "metadata": {},
   "source": [
    "#### Without Smoothing"
   ]
  },
  {
   "cell_type": "code",
   "execution_count": 128,
   "metadata": {},
   "outputs": [],
   "source": [
    "gaussian_correct_detected_without_smoothing = np.zeros(NUM_OF_CLASSES)\n",
    "bernoulli_correct_detected_without_smoothing = np.zeros(NUM_OF_CLASSES)\n",
    "\n",
    "actual_in_class = np.zeros(NUM_OF_CLASSES)\n",
    "gaussian_detected_in_class_without_smoothing = np.zeros(NUM_OF_CLASSES)\n",
    "bernoulli_detected_in_class_without_smoothing = np.zeros(NUM_OF_CLASSES)\n",
    "\n",
    "gaussian_wrong_detected_without_smoothing = []\n",
    "bernoulli_wrong_detected_without_smoothing = []\n",
    "\n",
    "for i in range(len(test_data)):\n",
    "    actual_label = test_label[i]\n",
    "    gaussian_predicted_label = np.argmax(likelihood_gaussian_without_smoothing[i])\n",
    "    bernoulli_predicted_label = np.argmax(likelihood_bernoulli_without_smoothing[i])\n",
    "    \n",
    "    actual_in_class[actual_label] += 1\n",
    "    gaussian_detected_in_class_without_smoothing[gaussian_predicted_label] += 1\n",
    "    bernoulli_detected_in_class_without_smoothing[bernoulli_predicted_label] += 1\n",
    "\n",
    "    if gaussian_predicted_label == actual_label:\n",
    "        gaussian_correct_detected_without_smoothing[gaussian_predicted_label] += 1\n",
    "    \n",
    "    if bernoulli_predicted_label == actual_label:\n",
    "        bernoulli_correct_detected_without_smoothing[gaussian_predicted_label] += 1\n",
    "\n",
    "    if gaussian_predicted_label != actual_label:\n",
    "        gaussian_wrong_detected_without_smoothing.append((i, gaussian_predicted_label, actual_label))\n",
    "\n",
    "    if bernoulli_predicted_label != actual_label:\n",
    "        bernoulli_wrong_detected_without_smoothing.append((i, bernoulli_predicted_label, actual_label))\n",
    "\n",
    "    "
   ]
  },
  {
   "cell_type": "code",
   "execution_count": 129,
   "metadata": {},
   "outputs": [],
   "source": [
    "gaussian_accuracy_without_smoothing = np.sum(gaussian_correct_detected_without_smoothing) / np.sum(actual_in_class)\n",
    "bernoulli_accuracy_without_smoothing = np.sum(bernoulli_correct_detected_without_smoothing) / np.sum(actual_in_class)\n",
    "\n",
    "gaussian_precision_per_class_without_smoothing = gaussian_correct_detected_without_smoothing / gaussian_detected_in_class_without_smoothing\n",
    "bernoulli_precision_per_class_without_smoothing = bernoulli_correct_detected_without_smoothing / bernoulli_detected_in_class_without_smoothing\n",
    "\n",
    "gaussian_recall_per_class_without_smoothing = gaussian_correct_detected_without_smoothing / actual_in_class\n",
    "bernoulli_recall_per_class_without_smoothing = bernoulli_correct_detected_without_smoothing / actual_in_class\n",
    "\n",
    "gaussian_F1_per_class_without_smoothing = 2 * gaussian_precision_per_class_without_smoothing * gaussian_recall_per_class_without_smoothing / (gaussian_precision_per_class_without_smoothing + gaussian_recall_per_class_without_smoothing)\n",
    "bernoulli_F1_per_class_without_smoothing = 2 * bernoulli_precision_per_class_without_smoothing * bernoulli_recall_per_class_without_smoothing / (bernoulli_precision_per_class_without_smoothing + bernoulli_recall_per_class_without_smoothing)"
   ]
  },
  {
   "cell_type": "code",
   "execution_count": 130,
   "metadata": {},
   "outputs": [],
   "source": [
    "gaussian_precision_macro_avg_without_smoothing = np.sum(gaussian_precision_per_class_without_smoothing) / NUM_OF_CLASSES\n",
    "bernoulli_precision_macro_avg_without_smoothing = np.sum(bernoulli_precision_per_class_without_smoothing) / NUM_OF_CLASSES\n",
    "\n",
    "gaussian_recall_macro_avg_without_smoothing = np.sum(gaussian_recall_per_class_without_smoothing) / NUM_OF_CLASSES\n",
    "bernoulli_recall_macro_avg_without_smoothing = np.sum(bernoulli_recall_per_class_without_smoothing) / NUM_OF_CLASSES\n",
    "\n",
    "gaussian_F1_macro_avg_without_smoothing = np.sum(gaussian_F1_per_class_without_smoothing) / NUM_OF_CLASSES\n",
    "bernoulli_F1_macro_avg_without_smoothing = np.sum(bernoulli_F1_per_class_without_smoothing) / NUM_OF_CLASSES\n"
   ]
  },
  {
   "cell_type": "code",
   "execution_count": 131,
   "metadata": {},
   "outputs": [],
   "source": [
    "gaussian_precision_micro_avg_without_smoothing = np.sum(gaussian_correct_detected_without_smoothing) / np.sum(gaussian_detected_in_class_without_smoothing)\n",
    "bernoulli_precision_micro_avg_without_smoothing = np.sum(bernoulli_correct_detected_without_smoothing) / np.sum(bernoulli_detected_in_class_without_smoothing)\n",
    "\n",
    "gaussian_recall_micro_avg_without_smoothing = np.sum(gaussian_correct_detected_without_smoothing) / np.sum(actual_in_class)\n",
    "bernoulli_recall_micro_avg_without_smoothing = np.sum(bernoulli_correct_detected_without_smoothing) / np.sum(actual_in_class)\n",
    "\n",
    "gaussian_F1_micro_avg_without_smoothing = 2 * gaussian_precision_micro_avg_without_smoothing * gaussian_recall_micro_avg_without_smoothing / (gaussian_precision_micro_avg_without_smoothing + gaussian_recall_micro_avg_without_smoothing)\n",
    "bernoulli_F1_micro_avg_without_smoothing = 2 * bernoulli_precision_micro_avg_without_smoothing * bernoulli_recall_micro_avg_without_smoothing / (bernoulli_precision_micro_avg_without_smoothing + bernoulli_recall_micro_avg_without_smoothing)\n"
   ]
  },
  {
   "cell_type": "code",
   "execution_count": 132,
   "metadata": {},
   "outputs": [],
   "source": [
    "gaussian_precision_wighted_avg_without_smoothing = np.sum(gaussian_precision_per_class_without_smoothing * actual_in_class) / np.sum(actual_in_class)\n",
    "bernoulli_precision_wighted_avg_without_smoothing = np.sum(bernoulli_precision_per_class_without_smoothing * actual_in_class) / np.sum(actual_in_class)\n",
    "\n",
    "gaussian_recall_wighted_avg_without_smoothing = np.sum(gaussian_recall_per_class_without_smoothing * actual_in_class) / np.sum(actual_in_class)\n",
    "bernoulli_recall_wighted_avg_without_smoothing = np.sum(bernoulli_recall_per_class_without_smoothing * actual_in_class) / np.sum(actual_in_class)\n",
    "\n",
    "gaussian_F1_wighted_avg_without_smoothing = np.sum(gaussian_F1_per_class_without_smoothing * actual_in_class) / np.sum(actual_in_class)\n",
    "bernoulli_F1_wighted_avg_without_smoothing = np.sum(bernoulli_F1_per_class_without_smoothing * actual_in_class) / np.sum(actual_in_class)"
   ]
  },
  {
   "attachments": {},
   "cell_type": "markdown",
   "metadata": {},
   "source": [
    "#### With Smoothing"
   ]
  },
  {
   "cell_type": "code",
   "execution_count": 133,
   "metadata": {},
   "outputs": [],
   "source": [
    "gaussian_correct_detected_with_smoothing = np.zeros(NUM_OF_CLASSES)\n",
    "bernoulli_correct_detected_with_smoothing = np.zeros(NUM_OF_CLASSES)\n",
    "\n",
    "gaussian_wrong_detected_with_smoothing = []\n",
    "bernoulli_wrong_detected_with_smoothing = []\n",
    "\n",
    "actual_in_class = np.zeros(NUM_OF_CLASSES)\n",
    "gaussian_detected_in_class_with_smoothing = np.zeros(NUM_OF_CLASSES)\n",
    "bernoulli_detected_in_class_with_smoothing = np.zeros(NUM_OF_CLASSES)\n",
    "\n",
    "for i in range(len(test_data)):\n",
    "    actual_label = test_label[i]\n",
    "    gaussian_predicted_label = np.argmax(likelihood_gaussian_with_smoothing[i])\n",
    "    bernoulli_predicted_label = np.argmax(likelihood_bernoulli_with_smoothing[i])\n",
    "    \n",
    "    actual_in_class[actual_label] += 1\n",
    "    gaussian_detected_in_class_with_smoothing[gaussian_predicted_label] += 1\n",
    "    bernoulli_detected_in_class_with_smoothing[bernoulli_predicted_label] += 1\n",
    "\n",
    "    if gaussian_predicted_label == actual_label:\n",
    "        gaussian_correct_detected_with_smoothing[gaussian_predicted_label] += 1\n",
    "    \n",
    "    if bernoulli_predicted_label == actual_label:\n",
    "        bernoulli_correct_detected_with_smoothing[gaussian_predicted_label] += 1\n",
    "\n",
    "    if gaussian_predicted_label != actual_label:\n",
    "        gaussian_wrong_detected_with_smoothing.append((i, gaussian_predicted_label, actual_label))\n",
    "\n",
    "    if bernoulli_predicted_label != actual_label:\n",
    "        bernoulli_wrong_detected_with_smoothing.append((i, bernoulli_predicted_label, actual_label))\n",
    "\n"
   ]
  },
  {
   "cell_type": "code",
   "execution_count": 134,
   "metadata": {},
   "outputs": [],
   "source": [
    "gaussian_accuracy_with_smoothing = np.sum(gaussian_correct_detected_with_smoothing) / np.sum(actual_in_class)\n",
    "bernoulli_accuracy_with_smoothing = np.sum(bernoulli_correct_detected_with_smoothing) / np.sum(actual_in_class)\n",
    "\n",
    "gaussian_precision_per_class_with_smoothing = gaussian_correct_detected_with_smoothing / gaussian_detected_in_class_with_smoothing\n",
    "bernoulli_precision_per_class_with_smoothing = bernoulli_correct_detected_with_smoothing / bernoulli_detected_in_class_with_smoothing\n",
    "\n",
    "gaussian_recall_per_class_with_smoothing = gaussian_correct_detected_with_smoothing / actual_in_class\n",
    "bernoulli_recall_per_class_with_smoothing = bernoulli_correct_detected_with_smoothing / actual_in_class\n",
    "\n",
    "gaussian_F1_per_class_with_smoothing = 2 * gaussian_precision_per_class_with_smoothing * gaussian_recall_per_class_with_smoothing / (gaussian_precision_per_class_with_smoothing + gaussian_recall_per_class_with_smoothing)\n",
    "bernoulli_F1_per_class_with_smoothing = 2 * bernoulli_precision_per_class_with_smoothing * bernoulli_recall_per_class_with_smoothing / (bernoulli_precision_per_class_with_smoothing + bernoulli_recall_per_class_with_smoothing)\n",
    "    "
   ]
  },
  {
   "cell_type": "code",
   "execution_count": 135,
   "metadata": {},
   "outputs": [],
   "source": [
    "gaussian_precision_macro_avg_with_smoothing = np.sum(gaussian_precision_per_class_with_smoothing) / NUM_OF_CLASSES\n",
    "bernoulli_precision_macro_avg_with_smoothing = np.sum(bernoulli_precision_per_class_with_smoothing) / NUM_OF_CLASSES\n",
    "\n",
    "gaussian_recall_macro_avg_with_smoothing = np.sum(gaussian_recall_per_class_with_smoothing) / NUM_OF_CLASSES\n",
    "bernoulli_recall_macro_avg_with_smoothing = np.sum(bernoulli_recall_per_class_with_smoothing) / NUM_OF_CLASSES\n",
    "\n",
    "gaussian_F1_macro_avg_with_smoothing = np.sum(gaussian_F1_per_class_with_smoothing) / NUM_OF_CLASSES\n",
    "bernoulli_F1_macro_avg_with_smoothing = np.sum(bernoulli_F1_per_class_with_smoothing) / NUM_OF_CLASSES\n"
   ]
  },
  {
   "cell_type": "code",
   "execution_count": 136,
   "metadata": {},
   "outputs": [],
   "source": [
    "gaussian_precision_micro_avg_with_smoothing = np.sum(gaussian_correct_detected_with_smoothing) / np.sum(gaussian_detected_in_class_with_smoothing)\n",
    "bernoulli_precision_micro_avg_with_smoothing = np.sum(bernoulli_correct_detected_with_smoothing) / np.sum(bernoulli_detected_in_class_with_smoothing)\n",
    "\n",
    "gaussian_recall_micro_avg_with_smoothing = np.sum(gaussian_correct_detected_with_smoothing) / np.sum(actual_in_class)\n",
    "bernoulli_recall_micro_avg_with_smoothing = np.sum(bernoulli_correct_detected_with_smoothing) / np.sum(actual_in_class)\n",
    "\n",
    "gaussian_F1_micro_avg_with_smoothing = 2 * gaussian_precision_micro_avg_with_smoothing * gaussian_recall_micro_avg_with_smoothing / (gaussian_precision_micro_avg_with_smoothing + gaussian_recall_micro_avg_with_smoothing)\n",
    "bernoulli_F1_micro_avg_with_smoothing = 2 * bernoulli_precision_micro_avg_with_smoothing * bernoulli_recall_micro_avg_with_smoothing / (bernoulli_precision_micro_avg_with_smoothing + bernoulli_recall_micro_avg_with_smoothing)\n"
   ]
  },
  {
   "cell_type": "code",
   "execution_count": 137,
   "metadata": {},
   "outputs": [],
   "source": [
    "gaussian_precision_wighted_avg_with_smoothing = np.sum(gaussian_precision_per_class_with_smoothing * actual_in_class) / np.sum(actual_in_class)\n",
    "bernoulli_precision_wighted_avg_with_smoothing = np.sum(bernoulli_precision_per_class_with_smoothing * actual_in_class) / np.sum(actual_in_class)\n",
    "\n",
    "gaussian_recall_wighted_avg_with_smoothing = np.sum(gaussian_recall_per_class_with_smoothing * actual_in_class) / np.sum(actual_in_class)\n",
    "bernoulli_recall_wighted_avg_with_smoothing = np.sum(bernoulli_recall_per_class_with_smoothing * actual_in_class) / np.sum(actual_in_class)\n",
    "\n",
    "gaussian_F1_wighted_avg_with_smoothing = np.sum(gaussian_F1_per_class_with_smoothing * actual_in_class) / np.sum(actual_in_class)\n",
    "bernoulli_F1_wighted_avg_with_smoothing = np.sum(bernoulli_F1_per_class_with_smoothing * actual_in_class) / np.sum(actual_in_class)\n"
   ]
  },
  {
   "attachments": {},
   "cell_type": "markdown",
   "metadata": {},
   "source": [
    "## Results"
   ]
  },
  {
   "attachments": {},
   "cell_type": "markdown",
   "metadata": {},
   "source": [
    "### Gaussian Naive Baise Without Smoothing"
   ]
  },
  {
   "cell_type": "code",
   "execution_count": 138,
   "metadata": {},
   "outputs": [
    {
     "data": {
      "text/html": [
       "<div>\n",
       "<style scoped>\n",
       "    .dataframe tbody tr th:only-of-type {\n",
       "        vertical-align: middle;\n",
       "    }\n",
       "\n",
       "    .dataframe tbody tr th {\n",
       "        vertical-align: top;\n",
       "    }\n",
       "\n",
       "    .dataframe thead th {\n",
       "        text-align: right;\n",
       "    }\n",
       "</style>\n",
       "<table border=\"1\" class=\"dataframe\">\n",
       "  <thead>\n",
       "    <tr style=\"text-align: right;\">\n",
       "      <th></th>\n",
       "      <th>0</th>\n",
       "      <th>1</th>\n",
       "      <th>2</th>\n",
       "      <th>3</th>\n",
       "      <th>4</th>\n",
       "      <th>5</th>\n",
       "      <th>6</th>\n",
       "      <th>7</th>\n",
       "      <th>8</th>\n",
       "      <th>9</th>\n",
       "      <th>All Classes</th>\n",
       "    </tr>\n",
       "  </thead>\n",
       "  <tbody>\n",
       "    <tr>\n",
       "      <th>Precision</th>\n",
       "      <td>0.955556</td>\n",
       "      <td>0.880000</td>\n",
       "      <td>0.776699</td>\n",
       "      <td>0.862903</td>\n",
       "      <td>0.858491</td>\n",
       "      <td>0.938053</td>\n",
       "      <td>0.879310</td>\n",
       "      <td>0.937500</td>\n",
       "      <td>1.000000</td>\n",
       "      <td>0.865854</td>\n",
       "      <td>NaN</td>\n",
       "    </tr>\n",
       "    <tr>\n",
       "      <th>Recall</th>\n",
       "      <td>0.969925</td>\n",
       "      <td>0.894309</td>\n",
       "      <td>0.714286</td>\n",
       "      <td>0.899160</td>\n",
       "      <td>0.892157</td>\n",
       "      <td>0.921739</td>\n",
       "      <td>0.822581</td>\n",
       "      <td>0.882353</td>\n",
       "      <td>0.927273</td>\n",
       "      <td>0.993007</td>\n",
       "      <td>NaN</td>\n",
       "    </tr>\n",
       "    <tr>\n",
       "      <th>F1-score</th>\n",
       "      <td>0.962687</td>\n",
       "      <td>0.887097</td>\n",
       "      <td>0.744186</td>\n",
       "      <td>0.880658</td>\n",
       "      <td>0.875000</td>\n",
       "      <td>0.929825</td>\n",
       "      <td>0.850000</td>\n",
       "      <td>0.909091</td>\n",
       "      <td>0.962264</td>\n",
       "      <td>0.925081</td>\n",
       "      <td>NaN</td>\n",
       "    </tr>\n",
       "    <tr>\n",
       "      <th>Accuracy</th>\n",
       "      <td>NaN</td>\n",
       "      <td>NaN</td>\n",
       "      <td>NaN</td>\n",
       "      <td>NaN</td>\n",
       "      <td>NaN</td>\n",
       "      <td>NaN</td>\n",
       "      <td>NaN</td>\n",
       "      <td>NaN</td>\n",
       "      <td>NaN</td>\n",
       "      <td>NaN</td>\n",
       "      <td>0.895</td>\n",
       "    </tr>\n",
       "  </tbody>\n",
       "</table>\n",
       "</div>"
      ],
      "text/plain": [
       "                  0         1         2         3         4         5  \\\n",
       "Precision  0.955556  0.880000  0.776699  0.862903  0.858491  0.938053   \n",
       "Recall     0.969925  0.894309  0.714286  0.899160  0.892157  0.921739   \n",
       "F1-score   0.962687  0.887097  0.744186  0.880658  0.875000  0.929825   \n",
       "Accuracy        NaN       NaN       NaN       NaN       NaN       NaN   \n",
       "\n",
       "                  6         7         8         9  All Classes  \n",
       "Precision  0.879310  0.937500  1.000000  0.865854          NaN  \n",
       "Recall     0.822581  0.882353  0.927273  0.993007          NaN  \n",
       "F1-score   0.850000  0.909091  0.962264  0.925081          NaN  \n",
       "Accuracy        NaN       NaN       NaN       NaN        0.895  "
      ]
     },
     "metadata": {},
     "output_type": "display_data"
    }
   ],
   "source": [
    "gaussian_results_rows = ['Precision', 'Recall', 'F1-score', 'Accuracy']\n",
    "gaussian_results_without_smoothing = pd.DataFrame(index=gaussian_results_rows)\n",
    "\n",
    "for i in range(NUM_OF_CLASSES):\n",
    "    gaussian_results_without_smoothing.loc['Precision', i] = gaussian_precision_per_class_without_smoothing[i]\n",
    "    gaussian_results_without_smoothing.loc['Recall', i] = gaussian_recall_per_class_without_smoothing[i]\n",
    "    gaussian_results_without_smoothing.loc['F1-score', i] = gaussian_F1_per_class_without_smoothing[i]\n",
    "\n",
    "gaussian_results_without_smoothing.loc['Accuracy', 'All Classes'] = gaussian_accuracy_without_smoothing\n",
    "\n",
    "display(gaussian_results_without_smoothing)\n"
   ]
  },
  {
   "cell_type": "code",
   "execution_count": 139,
   "metadata": {},
   "outputs": [
    {
     "data": {
      "text/html": [
       "<div>\n",
       "<style scoped>\n",
       "    .dataframe tbody tr th:only-of-type {\n",
       "        vertical-align: middle;\n",
       "    }\n",
       "\n",
       "    .dataframe tbody tr th {\n",
       "        vertical-align: top;\n",
       "    }\n",
       "\n",
       "    .dataframe thead th {\n",
       "        text-align: right;\n",
       "    }\n",
       "</style>\n",
       "<table border=\"1\" class=\"dataframe\">\n",
       "  <thead>\n",
       "    <tr style=\"text-align: right;\">\n",
       "      <th></th>\n",
       "      <th>Precision</th>\n",
       "      <th>Recall</th>\n",
       "      <th>F1-score</th>\n",
       "    </tr>\n",
       "  </thead>\n",
       "  <tbody>\n",
       "    <tr>\n",
       "      <th>Macro Avg</th>\n",
       "      <td>0.895437</td>\n",
       "      <td>0.891679</td>\n",
       "      <td>0.892589</td>\n",
       "    </tr>\n",
       "    <tr>\n",
       "      <th>Micro Avg</th>\n",
       "      <td>0.895</td>\n",
       "      <td>0.895</td>\n",
       "      <td>0.895</td>\n",
       "    </tr>\n",
       "    <tr>\n",
       "      <th>Weighted Avg</th>\n",
       "      <td>0.895717</td>\n",
       "      <td>0.895</td>\n",
       "      <td>0.894329</td>\n",
       "    </tr>\n",
       "  </tbody>\n",
       "</table>\n",
       "</div>"
      ],
      "text/plain": [
       "             Precision    Recall  F1-score\n",
       "Macro Avg     0.895437  0.891679  0.892589\n",
       "Micro Avg        0.895     0.895     0.895\n",
       "Weighted Avg  0.895717     0.895  0.894329"
      ]
     },
     "metadata": {},
     "output_type": "display_data"
    }
   ],
   "source": [
    "gaussian_average_results_rows = ['Macro Avg', 'Micro Avg', 'Weighted Avg']\n",
    "gaussian_average_results_cols = ['Precision', 'Recall', 'F1-score']\n",
    "\n",
    "gaussian_average_results_without_smoothing = pd.DataFrame(index=gaussian_average_results_rows, columns=gaussian_average_results_cols)\n",
    "\n",
    "gaussian_average_results_without_smoothing.loc['Macro Avg', 'Precision'] = gaussian_precision_macro_avg_without_smoothing\n",
    "gaussian_average_results_without_smoothing.loc['Macro Avg', 'Recall'] = gaussian_recall_macro_avg_without_smoothing\n",
    "gaussian_average_results_without_smoothing.loc['Macro Avg', 'F1-score'] = gaussian_F1_macro_avg_without_smoothing\n",
    "\n",
    "gaussian_average_results_without_smoothing.loc['Micro Avg', 'Precision'] = gaussian_precision_micro_avg_without_smoothing\n",
    "gaussian_average_results_without_smoothing.loc['Micro Avg', 'Recall'] = gaussian_recall_micro_avg_without_smoothing\n",
    "gaussian_average_results_without_smoothing.loc['Micro Avg', 'F1-score'] = gaussian_F1_micro_avg_without_smoothing\n",
    "\n",
    "gaussian_average_results_without_smoothing.loc['Weighted Avg', 'Precision'] = gaussian_precision_wighted_avg_without_smoothing\n",
    "gaussian_average_results_without_smoothing.loc['Weighted Avg', 'Recall'] = gaussian_recall_wighted_avg_without_smoothing\n",
    "gaussian_average_results_without_smoothing.loc['Weighted Avg', 'F1-score'] = gaussian_F1_wighted_avg_without_smoothing\n",
    "\n",
    "display(gaussian_average_results_without_smoothing)\n"
   ]
  },
  {
   "attachments": {},
   "cell_type": "markdown",
   "metadata": {},
   "source": [
    "### Gaussian Naive Baise With Smoothing"
   ]
  },
  {
   "cell_type": "code",
   "execution_count": 140,
   "metadata": {},
   "outputs": [
    {
     "data": {
      "text/html": [
       "<div>\n",
       "<style scoped>\n",
       "    .dataframe tbody tr th:only-of-type {\n",
       "        vertical-align: middle;\n",
       "    }\n",
       "\n",
       "    .dataframe tbody tr th {\n",
       "        vertical-align: top;\n",
       "    }\n",
       "\n",
       "    .dataframe thead th {\n",
       "        text-align: right;\n",
       "    }\n",
       "</style>\n",
       "<table border=\"1\" class=\"dataframe\">\n",
       "  <thead>\n",
       "    <tr style=\"text-align: right;\">\n",
       "      <th></th>\n",
       "      <th>0</th>\n",
       "      <th>1</th>\n",
       "      <th>2</th>\n",
       "      <th>3</th>\n",
       "      <th>4</th>\n",
       "      <th>5</th>\n",
       "      <th>6</th>\n",
       "      <th>7</th>\n",
       "      <th>8</th>\n",
       "      <th>9</th>\n",
       "      <th>All Classes</th>\n",
       "    </tr>\n",
       "  </thead>\n",
       "  <tbody>\n",
       "    <tr>\n",
       "      <th>Precision</th>\n",
       "      <td>0.955556</td>\n",
       "      <td>0.880000</td>\n",
       "      <td>0.776699</td>\n",
       "      <td>0.862903</td>\n",
       "      <td>0.858491</td>\n",
       "      <td>0.938053</td>\n",
       "      <td>0.875000</td>\n",
       "      <td>0.937500</td>\n",
       "      <td>1.000000</td>\n",
       "      <td>0.845238</td>\n",
       "      <td>NaN</td>\n",
       "    </tr>\n",
       "    <tr>\n",
       "      <th>Recall</th>\n",
       "      <td>0.969925</td>\n",
       "      <td>0.894309</td>\n",
       "      <td>0.714286</td>\n",
       "      <td>0.899160</td>\n",
       "      <td>0.892157</td>\n",
       "      <td>0.921739</td>\n",
       "      <td>0.790323</td>\n",
       "      <td>0.882353</td>\n",
       "      <td>0.927273</td>\n",
       "      <td>0.993007</td>\n",
       "      <td>NaN</td>\n",
       "    </tr>\n",
       "    <tr>\n",
       "      <th>F1-score</th>\n",
       "      <td>0.962687</td>\n",
       "      <td>0.887097</td>\n",
       "      <td>0.744186</td>\n",
       "      <td>0.880658</td>\n",
       "      <td>0.875000</td>\n",
       "      <td>0.929825</td>\n",
       "      <td>0.830508</td>\n",
       "      <td>0.909091</td>\n",
       "      <td>0.962264</td>\n",
       "      <td>0.913183</td>\n",
       "      <td>NaN</td>\n",
       "    </tr>\n",
       "    <tr>\n",
       "      <th>Accuracy</th>\n",
       "      <td>NaN</td>\n",
       "      <td>NaN</td>\n",
       "      <td>NaN</td>\n",
       "      <td>NaN</td>\n",
       "      <td>NaN</td>\n",
       "      <td>NaN</td>\n",
       "      <td>NaN</td>\n",
       "      <td>NaN</td>\n",
       "      <td>NaN</td>\n",
       "      <td>NaN</td>\n",
       "      <td>0.891667</td>\n",
       "    </tr>\n",
       "  </tbody>\n",
       "</table>\n",
       "</div>"
      ],
      "text/plain": [
       "                  0         1         2         3         4         5  \\\n",
       "Precision  0.955556  0.880000  0.776699  0.862903  0.858491  0.938053   \n",
       "Recall     0.969925  0.894309  0.714286  0.899160  0.892157  0.921739   \n",
       "F1-score   0.962687  0.887097  0.744186  0.880658  0.875000  0.929825   \n",
       "Accuracy        NaN       NaN       NaN       NaN       NaN       NaN   \n",
       "\n",
       "                  6         7         8         9  All Classes  \n",
       "Precision  0.875000  0.937500  1.000000  0.845238          NaN  \n",
       "Recall     0.790323  0.882353  0.927273  0.993007          NaN  \n",
       "F1-score   0.830508  0.909091  0.962264  0.913183          NaN  \n",
       "Accuracy        NaN       NaN       NaN       NaN     0.891667  "
      ]
     },
     "metadata": {},
     "output_type": "display_data"
    }
   ],
   "source": [
    "gaussian_results_rows = ['Precision', 'Recall', 'F1-score', 'Accuracy']\n",
    "gaussian_results_with_smoothing = pd.DataFrame(index=gaussian_results_rows)\n",
    "\n",
    "for i in range(NUM_OF_CLASSES):\n",
    "    gaussian_results_with_smoothing.loc['Precision', i] = gaussian_precision_per_class_with_smoothing[i]\n",
    "    gaussian_results_with_smoothing.loc['Recall', i] = gaussian_recall_per_class_with_smoothing[i]\n",
    "    gaussian_results_with_smoothing.loc['F1-score', i] = gaussian_F1_per_class_with_smoothing[i]\n",
    "\n",
    "gaussian_results_with_smoothing.loc['Accuracy', 'All Classes'] = gaussian_accuracy_with_smoothing\n",
    "\n",
    "display(gaussian_results_with_smoothing)\n"
   ]
  },
  {
   "cell_type": "code",
   "execution_count": 141,
   "metadata": {},
   "outputs": [
    {
     "data": {
      "text/html": [
       "<div>\n",
       "<style scoped>\n",
       "    .dataframe tbody tr th:only-of-type {\n",
       "        vertical-align: middle;\n",
       "    }\n",
       "\n",
       "    .dataframe tbody tr th {\n",
       "        vertical-align: top;\n",
       "    }\n",
       "\n",
       "    .dataframe thead th {\n",
       "        text-align: right;\n",
       "    }\n",
       "</style>\n",
       "<table border=\"1\" class=\"dataframe\">\n",
       "  <thead>\n",
       "    <tr style=\"text-align: right;\">\n",
       "      <th></th>\n",
       "      <th>Precision</th>\n",
       "      <th>Recall</th>\n",
       "      <th>F1-score</th>\n",
       "    </tr>\n",
       "  </thead>\n",
       "  <tbody>\n",
       "    <tr>\n",
       "      <th>Macro Avg</th>\n",
       "      <td>0.892944</td>\n",
       "      <td>0.888453</td>\n",
       "      <td>0.88945</td>\n",
       "    </tr>\n",
       "    <tr>\n",
       "      <th>Micro Avg</th>\n",
       "      <td>0.891667</td>\n",
       "      <td>0.891667</td>\n",
       "      <td>0.891667</td>\n",
       "    </tr>\n",
       "    <tr>\n",
       "      <th>Weighted Avg</th>\n",
       "      <td>0.892815</td>\n",
       "      <td>0.891667</td>\n",
       "      <td>0.890897</td>\n",
       "    </tr>\n",
       "  </tbody>\n",
       "</table>\n",
       "</div>"
      ],
      "text/plain": [
       "             Precision    Recall  F1-score\n",
       "Macro Avg     0.892944  0.888453   0.88945\n",
       "Micro Avg     0.891667  0.891667  0.891667\n",
       "Weighted Avg  0.892815  0.891667  0.890897"
      ]
     },
     "metadata": {},
     "output_type": "display_data"
    }
   ],
   "source": [
    "gaussian_average_results_rows = ['Macro Avg', 'Micro Avg', 'Weighted Avg']\n",
    "gaussian_average_results_cols = ['Precision', 'Recall', 'F1-score']\n",
    "\n",
    "gaussian_average_results_with_smoothing = pd.DataFrame(index=gaussian_average_results_rows, columns=gaussian_average_results_cols)\n",
    "\n",
    "gaussian_average_results_with_smoothing.loc['Macro Avg', 'Precision'] = gaussian_precision_macro_avg_with_smoothing\n",
    "gaussian_average_results_with_smoothing.loc['Macro Avg', 'Recall'] = gaussian_recall_macro_avg_with_smoothing\n",
    "gaussian_average_results_with_smoothing.loc['Macro Avg', 'F1-score'] = gaussian_F1_macro_avg_with_smoothing\n",
    "\n",
    "gaussian_average_results_with_smoothing.loc['Micro Avg', 'Precision'] = gaussian_precision_micro_avg_with_smoothing\n",
    "gaussian_average_results_with_smoothing.loc['Micro Avg', 'Recall'] = gaussian_recall_micro_avg_with_smoothing\n",
    "gaussian_average_results_with_smoothing.loc['Micro Avg', 'F1-score'] = gaussian_F1_micro_avg_with_smoothing\n",
    "\n",
    "gaussian_average_results_with_smoothing.loc['Weighted Avg', 'Precision'] = gaussian_precision_wighted_avg_with_smoothing\n",
    "gaussian_average_results_with_smoothing.loc['Weighted Avg', 'Recall'] = gaussian_recall_wighted_avg_with_smoothing\n",
    "gaussian_average_results_with_smoothing.loc['Weighted Avg', 'F1-score'] = gaussian_F1_wighted_avg_with_smoothing\n",
    "\n",
    "display(gaussian_average_results_with_smoothing)\n"
   ]
  },
  {
   "attachments": {},
   "cell_type": "markdown",
   "metadata": {},
   "source": [
    "### Bernoulli Naive Baise Without Smoothing"
   ]
  },
  {
   "cell_type": "code",
   "execution_count": 142,
   "metadata": {},
   "outputs": [
    {
     "data": {
      "text/html": [
       "<div>\n",
       "<style scoped>\n",
       "    .dataframe tbody tr th:only-of-type {\n",
       "        vertical-align: middle;\n",
       "    }\n",
       "\n",
       "    .dataframe tbody tr th {\n",
       "        vertical-align: top;\n",
       "    }\n",
       "\n",
       "    .dataframe thead th {\n",
       "        text-align: right;\n",
       "    }\n",
       "</style>\n",
       "<table border=\"1\" class=\"dataframe\">\n",
       "  <thead>\n",
       "    <tr style=\"text-align: right;\">\n",
       "      <th></th>\n",
       "      <th>0</th>\n",
       "      <th>1</th>\n",
       "      <th>2</th>\n",
       "      <th>3</th>\n",
       "      <th>4</th>\n",
       "      <th>5</th>\n",
       "      <th>6</th>\n",
       "      <th>7</th>\n",
       "      <th>8</th>\n",
       "      <th>9</th>\n",
       "      <th>All Classes</th>\n",
       "    </tr>\n",
       "  </thead>\n",
       "  <tbody>\n",
       "    <tr>\n",
       "      <th>Precision</th>\n",
       "      <td>0.888889</td>\n",
       "      <td>0.911504</td>\n",
       "      <td>0.731481</td>\n",
       "      <td>0.834783</td>\n",
       "      <td>0.884615</td>\n",
       "      <td>0.922414</td>\n",
       "      <td>0.895238</td>\n",
       "      <td>0.880342</td>\n",
       "      <td>0.971429</td>\n",
       "      <td>0.826590</td>\n",
       "      <td>NaN</td>\n",
       "    </tr>\n",
       "    <tr>\n",
       "      <th>Recall</th>\n",
       "      <td>0.962406</td>\n",
       "      <td>0.837398</td>\n",
       "      <td>0.705357</td>\n",
       "      <td>0.806723</td>\n",
       "      <td>0.901961</td>\n",
       "      <td>0.930435</td>\n",
       "      <td>0.758065</td>\n",
       "      <td>0.865546</td>\n",
       "      <td>0.927273</td>\n",
       "      <td>1.000000</td>\n",
       "      <td>NaN</td>\n",
       "    </tr>\n",
       "    <tr>\n",
       "      <th>F1-score</th>\n",
       "      <td>0.924188</td>\n",
       "      <td>0.872881</td>\n",
       "      <td>0.718182</td>\n",
       "      <td>0.820513</td>\n",
       "      <td>0.893204</td>\n",
       "      <td>0.926407</td>\n",
       "      <td>0.820961</td>\n",
       "      <td>0.872881</td>\n",
       "      <td>0.948837</td>\n",
       "      <td>0.905063</td>\n",
       "      <td>NaN</td>\n",
       "    </tr>\n",
       "    <tr>\n",
       "      <th>Accuracy</th>\n",
       "      <td>NaN</td>\n",
       "      <td>NaN</td>\n",
       "      <td>NaN</td>\n",
       "      <td>NaN</td>\n",
       "      <td>NaN</td>\n",
       "      <td>NaN</td>\n",
       "      <td>NaN</td>\n",
       "      <td>NaN</td>\n",
       "      <td>NaN</td>\n",
       "      <td>NaN</td>\n",
       "      <td>0.8725</td>\n",
       "    </tr>\n",
       "  </tbody>\n",
       "</table>\n",
       "</div>"
      ],
      "text/plain": [
       "                  0         1         2         3         4         5  \\\n",
       "Precision  0.888889  0.911504  0.731481  0.834783  0.884615  0.922414   \n",
       "Recall     0.962406  0.837398  0.705357  0.806723  0.901961  0.930435   \n",
       "F1-score   0.924188  0.872881  0.718182  0.820513  0.893204  0.926407   \n",
       "Accuracy        NaN       NaN       NaN       NaN       NaN       NaN   \n",
       "\n",
       "                  6         7         8         9  All Classes  \n",
       "Precision  0.895238  0.880342  0.971429  0.826590          NaN  \n",
       "Recall     0.758065  0.865546  0.927273  1.000000          NaN  \n",
       "F1-score   0.820961  0.872881  0.948837  0.905063          NaN  \n",
       "Accuracy        NaN       NaN       NaN       NaN       0.8725  "
      ]
     },
     "metadata": {},
     "output_type": "display_data"
    }
   ],
   "source": [
    "bernoulli_results_rows = ['Precision', 'Recall', 'F1-score', 'Accuracy']\n",
    "bernoulli_results_without_smoothing = pd.DataFrame(index=bernoulli_results_rows)\n",
    "\n",
    "for i in range(NUM_OF_CLASSES):\n",
    "    bernoulli_results_without_smoothing.loc['Precision', i] = bernoulli_precision_per_class_without_smoothing[i]\n",
    "    bernoulli_results_without_smoothing.loc['Recall', i] = bernoulli_recall_per_class_without_smoothing[i]\n",
    "    bernoulli_results_without_smoothing.loc['F1-score', i] = bernoulli_F1_per_class_without_smoothing[i]\n",
    "\n",
    "bernoulli_results_without_smoothing.loc['Accuracy', 'All Classes'] = bernoulli_accuracy_without_smoothing\n",
    "\n",
    "display(bernoulli_results_without_smoothing)\n"
   ]
  },
  {
   "cell_type": "code",
   "execution_count": 143,
   "metadata": {},
   "outputs": [
    {
     "data": {
      "text/html": [
       "<div>\n",
       "<style scoped>\n",
       "    .dataframe tbody tr th:only-of-type {\n",
       "        vertical-align: middle;\n",
       "    }\n",
       "\n",
       "    .dataframe tbody tr th {\n",
       "        vertical-align: top;\n",
       "    }\n",
       "\n",
       "    .dataframe thead th {\n",
       "        text-align: right;\n",
       "    }\n",
       "</style>\n",
       "<table border=\"1\" class=\"dataframe\">\n",
       "  <thead>\n",
       "    <tr style=\"text-align: right;\">\n",
       "      <th></th>\n",
       "      <th>Precision</th>\n",
       "      <th>Recall</th>\n",
       "      <th>F1-score</th>\n",
       "    </tr>\n",
       "  </thead>\n",
       "  <tbody>\n",
       "    <tr>\n",
       "      <th>Macro Avg</th>\n",
       "      <td>0.874728</td>\n",
       "      <td>0.869516</td>\n",
       "      <td>0.870312</td>\n",
       "    </tr>\n",
       "    <tr>\n",
       "      <th>Micro Avg</th>\n",
       "      <td>0.8725</td>\n",
       "      <td>0.8725</td>\n",
       "      <td>0.8725</td>\n",
       "    </tr>\n",
       "    <tr>\n",
       "      <th>Weighted Avg</th>\n",
       "      <td>0.87395</td>\n",
       "      <td>0.8725</td>\n",
       "      <td>0.871225</td>\n",
       "    </tr>\n",
       "  </tbody>\n",
       "</table>\n",
       "</div>"
      ],
      "text/plain": [
       "             Precision    Recall  F1-score\n",
       "Macro Avg     0.874728  0.869516  0.870312\n",
       "Micro Avg       0.8725    0.8725    0.8725\n",
       "Weighted Avg   0.87395    0.8725  0.871225"
      ]
     },
     "metadata": {},
     "output_type": "display_data"
    }
   ],
   "source": [
    "bernoulli_average_results_rows = ['Macro Avg', 'Micro Avg', 'Weighted Avg']\n",
    "bernoulli_average_results_cols = ['Precision', 'Recall', 'F1-score']\n",
    "\n",
    "bernoulli_average_results_without_smoothing = pd.DataFrame(index=bernoulli_average_results_rows, columns=bernoulli_average_results_cols)\n",
    "\n",
    "bernoulli_average_results_without_smoothing.loc['Macro Avg', 'Precision'] = bernoulli_precision_macro_avg_without_smoothing\n",
    "bernoulli_average_results_without_smoothing.loc['Macro Avg', 'Recall'] = bernoulli_recall_macro_avg_without_smoothing\n",
    "bernoulli_average_results_without_smoothing.loc['Macro Avg', 'F1-score'] = bernoulli_F1_macro_avg_without_smoothing\n",
    "\n",
    "bernoulli_average_results_without_smoothing.loc['Micro Avg', 'Precision'] = bernoulli_precision_micro_avg_without_smoothing\n",
    "bernoulli_average_results_without_smoothing.loc['Micro Avg', 'Recall'] = bernoulli_recall_micro_avg_without_smoothing\n",
    "bernoulli_average_results_without_smoothing.loc['Micro Avg', 'F1-score'] = bernoulli_F1_micro_avg_without_smoothing\n",
    "\n",
    "bernoulli_average_results_without_smoothing.loc['Weighted Avg', 'Precision'] = bernoulli_precision_wighted_avg_without_smoothing\n",
    "bernoulli_average_results_without_smoothing.loc['Weighted Avg', 'Recall'] = bernoulli_recall_wighted_avg_without_smoothing\n",
    "bernoulli_average_results_without_smoothing.loc['Weighted Avg', 'F1-score'] = bernoulli_F1_wighted_avg_without_smoothing\n",
    "\n",
    "display(bernoulli_average_results_without_smoothing)\n"
   ]
  },
  {
   "attachments": {},
   "cell_type": "markdown",
   "metadata": {},
   "source": [
    "### Bernoulli Naive Baise With Smoothing"
   ]
  },
  {
   "cell_type": "code",
   "execution_count": 144,
   "metadata": {},
   "outputs": [
    {
     "data": {
      "text/html": [
       "<div>\n",
       "<style scoped>\n",
       "    .dataframe tbody tr th:only-of-type {\n",
       "        vertical-align: middle;\n",
       "    }\n",
       "\n",
       "    .dataframe tbody tr th {\n",
       "        vertical-align: top;\n",
       "    }\n",
       "\n",
       "    .dataframe thead th {\n",
       "        text-align: right;\n",
       "    }\n",
       "</style>\n",
       "<table border=\"1\" class=\"dataframe\">\n",
       "  <thead>\n",
       "    <tr style=\"text-align: right;\">\n",
       "      <th></th>\n",
       "      <th>0</th>\n",
       "      <th>1</th>\n",
       "      <th>2</th>\n",
       "      <th>3</th>\n",
       "      <th>4</th>\n",
       "      <th>5</th>\n",
       "      <th>6</th>\n",
       "      <th>7</th>\n",
       "      <th>8</th>\n",
       "      <th>9</th>\n",
       "      <th>All Classes</th>\n",
       "    </tr>\n",
       "  </thead>\n",
       "  <tbody>\n",
       "    <tr>\n",
       "      <th>Precision</th>\n",
       "      <td>0.888889</td>\n",
       "      <td>0.911504</td>\n",
       "      <td>0.731481</td>\n",
       "      <td>0.834783</td>\n",
       "      <td>0.884615</td>\n",
       "      <td>0.922414</td>\n",
       "      <td>0.895238</td>\n",
       "      <td>0.880342</td>\n",
       "      <td>0.971429</td>\n",
       "      <td>0.826590</td>\n",
       "      <td>NaN</td>\n",
       "    </tr>\n",
       "    <tr>\n",
       "      <th>Recall</th>\n",
       "      <td>0.962406</td>\n",
       "      <td>0.837398</td>\n",
       "      <td>0.705357</td>\n",
       "      <td>0.806723</td>\n",
       "      <td>0.901961</td>\n",
       "      <td>0.930435</td>\n",
       "      <td>0.758065</td>\n",
       "      <td>0.865546</td>\n",
       "      <td>0.927273</td>\n",
       "      <td>1.000000</td>\n",
       "      <td>NaN</td>\n",
       "    </tr>\n",
       "    <tr>\n",
       "      <th>F1-score</th>\n",
       "      <td>0.924188</td>\n",
       "      <td>0.872881</td>\n",
       "      <td>0.718182</td>\n",
       "      <td>0.820513</td>\n",
       "      <td>0.893204</td>\n",
       "      <td>0.926407</td>\n",
       "      <td>0.820961</td>\n",
       "      <td>0.872881</td>\n",
       "      <td>0.948837</td>\n",
       "      <td>0.905063</td>\n",
       "      <td>NaN</td>\n",
       "    </tr>\n",
       "    <tr>\n",
       "      <th>Accuracy</th>\n",
       "      <td>NaN</td>\n",
       "      <td>NaN</td>\n",
       "      <td>NaN</td>\n",
       "      <td>NaN</td>\n",
       "      <td>NaN</td>\n",
       "      <td>NaN</td>\n",
       "      <td>NaN</td>\n",
       "      <td>NaN</td>\n",
       "      <td>NaN</td>\n",
       "      <td>NaN</td>\n",
       "      <td>0.8725</td>\n",
       "    </tr>\n",
       "  </tbody>\n",
       "</table>\n",
       "</div>"
      ],
      "text/plain": [
       "                  0         1         2         3         4         5  \\\n",
       "Precision  0.888889  0.911504  0.731481  0.834783  0.884615  0.922414   \n",
       "Recall     0.962406  0.837398  0.705357  0.806723  0.901961  0.930435   \n",
       "F1-score   0.924188  0.872881  0.718182  0.820513  0.893204  0.926407   \n",
       "Accuracy        NaN       NaN       NaN       NaN       NaN       NaN   \n",
       "\n",
       "                  6         7         8         9  All Classes  \n",
       "Precision  0.895238  0.880342  0.971429  0.826590          NaN  \n",
       "Recall     0.758065  0.865546  0.927273  1.000000          NaN  \n",
       "F1-score   0.820961  0.872881  0.948837  0.905063          NaN  \n",
       "Accuracy        NaN       NaN       NaN       NaN       0.8725  "
      ]
     },
     "metadata": {},
     "output_type": "display_data"
    }
   ],
   "source": [
    "bernoulli_results_rows = ['Precision', 'Recall', 'F1-score', 'Accuracy']\n",
    "bernoulli_results_with_smoothing = pd.DataFrame(index=bernoulli_results_rows)\n",
    "\n",
    "for i in range(NUM_OF_CLASSES):\n",
    "    bernoulli_results_with_smoothing.loc['Precision', i] = bernoulli_precision_per_class_with_smoothing[i]\n",
    "    bernoulli_results_with_smoothing.loc['Recall', i] = bernoulli_recall_per_class_with_smoothing[i]\n",
    "    bernoulli_results_with_smoothing.loc['F1-score', i] = bernoulli_F1_per_class_with_smoothing[i]\n",
    "\n",
    "bernoulli_results_with_smoothing.loc['Accuracy', 'All Classes'] = bernoulli_accuracy_with_smoothing\n",
    "\n",
    "display(bernoulli_results_with_smoothing)\n"
   ]
  },
  {
   "cell_type": "code",
   "execution_count": 145,
   "metadata": {},
   "outputs": [
    {
     "data": {
      "text/html": [
       "<div>\n",
       "<style scoped>\n",
       "    .dataframe tbody tr th:only-of-type {\n",
       "        vertical-align: middle;\n",
       "    }\n",
       "\n",
       "    .dataframe tbody tr th {\n",
       "        vertical-align: top;\n",
       "    }\n",
       "\n",
       "    .dataframe thead th {\n",
       "        text-align: right;\n",
       "    }\n",
       "</style>\n",
       "<table border=\"1\" class=\"dataframe\">\n",
       "  <thead>\n",
       "    <tr style=\"text-align: right;\">\n",
       "      <th></th>\n",
       "      <th>Precision</th>\n",
       "      <th>Recall</th>\n",
       "      <th>F1-score</th>\n",
       "    </tr>\n",
       "  </thead>\n",
       "  <tbody>\n",
       "    <tr>\n",
       "      <th>Macro Avg</th>\n",
       "      <td>0.874728</td>\n",
       "      <td>0.869516</td>\n",
       "      <td>0.870312</td>\n",
       "    </tr>\n",
       "    <tr>\n",
       "      <th>Micro Avg</th>\n",
       "      <td>0.8725</td>\n",
       "      <td>0.8725</td>\n",
       "      <td>0.8725</td>\n",
       "    </tr>\n",
       "    <tr>\n",
       "      <th>Weighted Avg</th>\n",
       "      <td>0.87395</td>\n",
       "      <td>0.8725</td>\n",
       "      <td>0.871225</td>\n",
       "    </tr>\n",
       "  </tbody>\n",
       "</table>\n",
       "</div>"
      ],
      "text/plain": [
       "             Precision    Recall  F1-score\n",
       "Macro Avg     0.874728  0.869516  0.870312\n",
       "Micro Avg       0.8725    0.8725    0.8725\n",
       "Weighted Avg   0.87395    0.8725  0.871225"
      ]
     },
     "metadata": {},
     "output_type": "display_data"
    }
   ],
   "source": [
    "bernoulli_average_results_rows = ['Macro Avg', 'Micro Avg', 'Weighted Avg']\n",
    "bernoulli_average_results_cols = ['Precision', 'Recall', 'F1-score']\n",
    "\n",
    "bernoulli_average_results_with_smoothing = pd.DataFrame(index=bernoulli_average_results_rows, columns=bernoulli_average_results_cols)\n",
    "\n",
    "bernoulli_average_results_with_smoothing.loc['Macro Avg', 'Precision'] = bernoulli_precision_macro_avg_with_smoothing\n",
    "bernoulli_average_results_with_smoothing.loc['Macro Avg', 'Recall'] = bernoulli_recall_macro_avg_with_smoothing\n",
    "bernoulli_average_results_with_smoothing.loc['Macro Avg', 'F1-score'] = bernoulli_F1_macro_avg_with_smoothing\n",
    "\n",
    "bernoulli_average_results_with_smoothing.loc['Micro Avg', 'Precision'] = bernoulli_precision_micro_avg_with_smoothing\n",
    "bernoulli_average_results_with_smoothing.loc['Micro Avg', 'Recall'] = bernoulli_recall_micro_avg_with_smoothing\n",
    "bernoulli_average_results_with_smoothing.loc['Micro Avg', 'F1-score'] = bernoulli_F1_micro_avg_with_smoothing\n",
    "\n",
    "bernoulli_average_results_with_smoothing.loc['Weighted Avg', 'Precision'] = bernoulli_precision_wighted_avg_with_smoothing\n",
    "bernoulli_average_results_with_smoothing.loc['Weighted Avg', 'Recall'] = bernoulli_recall_wighted_avg_with_smoothing\n",
    "bernoulli_average_results_with_smoothing.loc['Weighted Avg', 'F1-score'] = bernoulli_F1_wighted_avg_with_smoothing\n",
    "\n",
    "display(bernoulli_average_results_with_smoothing)\n"
   ]
  },
  {
   "attachments": {},
   "cell_type": "markdown",
   "metadata": {},
   "source": [
    "### Comparison"
   ]
  },
  {
   "attachments": {},
   "cell_type": "markdown",
   "metadata": {},
   "source": [
    "As we can see, the Gaussian Naive Baise classifier performs better than the Bernoulli Naive Baise classifier in terms of accuracy, precision, recall, and F1 score. This is because the Gaussian Naive Baise classifier can handle continuous features, while the Bernoulli Naive Baise classifier can only handle binary features. \n",
    "\n",
    "We got $ \\ >85\\% $ accuracy for all the classifiers which is pretty good."
   ]
  },
  {
   "attachments": {},
   "cell_type": "markdown",
   "metadata": {},
   "source": [
    "### Wrong Predictions"
   ]
  },
  {
   "attachments": {},
   "cell_type": "markdown",
   "metadata": {},
   "source": [
    "#### Gaussian Naive Baise Without Smoothing"
   ]
  },
  {
   "cell_type": "code",
   "execution_count": 149,
   "metadata": {},
   "outputs": [
    {
     "data": {
      "image/png": "[encoded data removed]",
      "text/plain": [
       "<Figure size 600x700 with 4 Axes>"
      ]
     },
     "metadata": {},
     "output_type": "display_data"
    }
   ],
   "source": [
    "fig = plt.figure(figsize=(6, 7))\n",
    "\n",
    "rows = 2\n",
    "columns = 2\n",
    "\n",
    "for i in range(rows * columns):\n",
    "    j = np.random.randint(0, len(gaussian_wrong_detected_without_smoothing))\n",
    "    selected = gaussian_wrong_detected_without_smoothing[j]\n",
    "    image_index = selected[0]\n",
    "    image_predicted_label = selected[1]\n",
    "    image_true_label = selected[2]\n",
    "\n",
    "    fig.add_subplot(rows, columns, i+1)\n",
    "    plt.imshow(test_data[image_index], cmap='gray')\n",
    "    plt.title(\"Predicted=\" + str(image_predicted_label) + \", True=\" + str(image_true_label))\n",
    "\n"
   ]
  },
  {
   "attachments": {},
   "cell_type": "markdown",
   "metadata": {},
   "source": [
    "#### Gaussian Naive Baise With Smoothing"
   ]
  },
  {
   "cell_type": "code",
   "execution_count": 150,
   "metadata": {},
   "outputs": [
    {
     "data": {
      "image/png": "[encoded data removed]",
      "text/plain": [
       "<Figure size 600x700 with 4 Axes>"
      ]
     },
     "metadata": {},
     "output_type": "display_data"
    }
   ],
   "source": [
    "fig = plt.figure(figsize=(6, 7))\n",
    "\n",
    "rows = 2\n",
    "columns = 2\n",
    "\n",
    "for i in range(rows * columns):\n",
    "    j = np.random.randint(0, len(gaussian_wrong_detected_with_smoothing))\n",
    "    selected = gaussian_wrong_detected_with_smoothing[j]\n",
    "    image_index = selected[0]\n",
    "    image_predicted_label = selected[1]\n",
    "    image_true_label = selected[2]\n",
    "\n",
    "    fig.add_subplot(rows, columns, i+1)\n",
    "    plt.imshow(test_data[image_index], cmap='gray')\n",
    "    plt.title(\"Predicted=\" + str(image_predicted_label) + \", True=\" + str(image_true_label))"
   ]
  },
  {
   "attachments": {},
   "cell_type": "markdown",
   "metadata": {},
   "source": [
    "#### Bernoulli Naive Baise Without Smoothing"
   ]
  },
  {
   "cell_type": "code",
   "execution_count": 151,
   "metadata": {},
   "outputs": [
    {
     "data": {
      "image/png": "[encoded data removed]",
      "text/plain": [
       "<Figure size 600x700 with 4 Axes>"
      ]
     },
     "metadata": {},
     "output_type": "display_data"
    }
   ],
   "source": [
    "fig = plt.figure(figsize=(6, 7))\n",
    "\n",
    "rows = 2\n",
    "columns = 2\n",
    "\n",
    "for i in range(rows * columns):\n",
    "    j = np.random.randint(0, len(bernoulli_wrong_detected_without_smoothing))\n",
    "    selected = bernoulli_wrong_detected_without_smoothing[j]\n",
    "    image_index = selected[0]\n",
    "    image_predicted_label = selected[1]\n",
    "    image_true_label = selected[2]\n",
    "\n",
    "    fig.add_subplot(rows, columns, i+1)\n",
    "    plt.imshow(test_data[image_index], cmap='gray')\n",
    "    plt.title(\"Predicted=\" + str(image_predicted_label) + \", True=\" + str(image_true_label))"
   ]
  },
  {
   "attachments": {},
   "cell_type": "markdown",
   "metadata": {},
   "source": [
    "#### Bernoulli Naive Baise With Smoothing"
   ]
  },
  {
   "cell_type": "code",
   "execution_count": 153,
   "metadata": {},
   "outputs": [
    {
     "data": {
      "image/png": "[encoded data removed]",
      "text/plain": [
       "<Figure size 600x700 with 4 Axes>"
      ]
     },
     "metadata": {},
     "output_type": "display_data"
    }
   ],
   "source": [
    "fig = plt.figure(figsize=(6, 7))\n",
    "\n",
    "rows = 2\n",
    "columns = 2\n",
    "\n",
    "for i in range(rows * columns):\n",
    "    j = np.random.randint(0, len(bernoulli_wrong_detected_with_smoothing))\n",
    "    selected = bernoulli_wrong_detected_with_smoothing[j]\n",
    "    image_index = selected[0]\n",
    "    image_predicted_label = selected[1]\n",
    "    image_true_label = selected[2]\n",
    "\n",
    "    fig.add_subplot(rows, columns, i+1)\n",
    "    plt.imshow(test_data[image_index], cmap='gray')\n",
    "    plt.title(\"Predicted=\" + str(image_predicted_label) + \", True=\" + str(image_true_label))"
   ]
  }
 ],
 "metadata": {
  "kernelspec": {
   "display_name": "base",
   "language": "python",
   "name": "python3"
  },
  "language_info": {
   "codemirror_mode": {
    "name": "ipython",
    "version": 3
   },
   "file_extension": ".py",
   "mimetype": "text/x-python",
   "name": "python",
   "nbconvert_exporter": "python",
   "pygments_lexer": "ipython3",
   "version": "3.10.6"
  },
  "orig_nbformat": 4,
  "vscode": {
   "interpreter": {
    "hash": "a4df7a6600e22bae99e6e8f837be5af686fd7a404512ca9c2620376f38fe7d31"
   }
  }
 },
 "nbformat": 4,
 "nbformat_minor": 2
}
