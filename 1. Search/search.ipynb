{
 "cells": [
  {
   "cell_type": "markdown",
   "metadata": {},
   "source": [
    "# Hadi Babalou - 810199380"
   ]
  },
  {
   "cell_type": "markdown",
   "metadata": {},
   "source": [
    "Artificial Intelligence - CA#01: *Search Algorithms* - Spring 2023 \\\n",
    "In this notebook, a food delivery problem is defined and solved using the following search algorithms:\n",
    "1. Breadth First Search\n",
    "2. Iterative Deepening Search\n",
    "3. A* Search\n",
    "4. Weighted A* Search"
   ]
  },
  {
   "cell_type": "markdown",
   "metadata": {},
   "source": [
    "First, we need to define ```Graph``` class. This class is used to represent the problem map as a graph. For this purpose, first we need to define the ```Edge``` class. This class is used to represent the edges of the graph. Each edge has five instance variables:\n",
    "-   ```id```: The identifier of the edge (an integer).\n",
    "-   ```u``` and ```v```: The endpoints of the edge, represented as integers.\n",
    "-   ```looseness```: An integer indicating the looseness of the edge. This is initially set to 0.\n",
    "-   ```type```: An instance of the EdgeType enumeration, indicating whether the edge is ```REGULAR``` or ```LOOSE```. This is initially set to ```REGULAR```."
   ]
  },
  {
   "cell_type": "code",
   "execution_count": 1,
   "metadata": {},
   "outputs": [],
   "source": [
    "from enum import Enum\n",
    "\n",
    "class EdgeType(Enum):\n",
    "    REGULAR = 0\n",
    "    LOOSE = 1\n",
    "\n",
    "class Edge:\n",
    "    id: int\n",
    "    u: int\n",
    "    v: int\n",
    "    looseness: int\n",
    "    type: EdgeType\n",
    "\n",
    "    def __init__(self, id: int, u: int, v:int):\n",
    "        self.id = id\n",
    "        self.u = u\n",
    "        self.v = v\n",
    "        self.looseness = 0\n",
    "        self.type = EdgeType.REGULAR\n",
    "\n",
    "    def set_as_loose(self, looseness: int) -> None:\n",
    "        self.looseness = looseness\n",
    "        self.type = EdgeType.LOOSE\n",
    "        "
   ]
  },
  {
   "cell_type": "markdown",
   "metadata": {},
   "source": [
    "Then we define the ```Node``` class. This class is used to represent a node in a graph. It has three instance variables:\n",
    "-   ```id```: The identifier of the node (an integer).\n",
    "-   ```type```: An instance of the NodeType enumeration, indicating the type of the node (```REGULAR```, ```ZIRAJ```, ```PIZZA``` or ```STUDENT```). This is initially set to ```REGULAR```.\n",
    "-   ```edges```: A list of edges that are adjacent to the node. This list is initially empty."
   ]
  },
  {
   "cell_type": "code",
   "execution_count": 2,
   "metadata": {},
   "outputs": [],
   "source": [
    "class NodeType(Enum):\n",
    "    REGULAR = 0\n",
    "    ZIRAJ = 1\n",
    "    PIZZA = 2\n",
    "    STUDENT = 3\n",
    "\n",
    "class Node:\n",
    "    id: int\n",
    "    type: NodeType\n",
    "    edges: list[Edge]\n",
    "\n",
    "    def __init__(self, id: int):\n",
    "        self.id = id\n",
    "        self.edges = []\n",
    "        self.type = NodeType.REGULAR\n",
    "\n",
    "    def add_edge(self, edge: Edge) -> None:\n",
    "        self.edges.append(edge)\n",
    "\n",
    "    def set_type(self, type: NodeType) -> None:\n",
    "        self.type = type\n"
   ]
  },
  {
   "cell_type": "markdown",
   "metadata": {},
   "source": [
    "Finally, we define the ```Graph``` class. This class is used to represent the problem map as a graph. It has the following instance variables:\n",
    "-   ```n```: The number of nodes in the graph (an integer).\n",
    "-   ```m```: The number of edges in the graph (an integer).\n",
    "-   ```nodes```: A list of Node objects in the graph.\n",
    "-   ```edges```: A list of Edge objects in the graph.\n",
    "-   ```loose_edges```: A set of Edge objects that are marked as loose.\n",
    "-   ```ziraj```: An integer indicating the node ID of the Ziraj.\n",
    "-   ```students```: A dictionary that maps a student ID to a node ID.\n",
    "-   ```student_demands```: A dictionary that maps a student node ID to a pizza node ID, representing the demand of each student.\n",
    "-   ```students_priority```: A dictionary indicating the priority of each student over another. The Pizza of the student with the key has a higher priority than the Pizza of the student with the value."
   ]
  },
  {
   "cell_type": "code",
   "execution_count": 3,
   "metadata": {},
   "outputs": [],
   "source": [
    "class Graph:\n",
    "    n: int\n",
    "    m: int\n",
    "    nodes: list[Node]\n",
    "    edges: list[Edge]\n",
    "    loose_edges: set[Edge]\n",
    "    ziraj: int\n",
    "    students: dict[int, int]                    # student_id: node_id\n",
    "    student_demands: dict[int, int]             # student_node: pizza_node\n",
    "    students_priority: dict[int, list[int]]     # student1_node: student2_node\n",
    "\n",
    "    def __init__(self, n: int, m: int):\n",
    "        self.n = n\n",
    "        self.m = m\n",
    "        self.nodes = [Node(i) for i in range(0, n)]\n",
    "        self.edges = []\n",
    "        self.loose_edges = set()\n",
    "        self.ziraj = -1\n",
    "        self.pizzas = set()\n",
    "        self.students = dict()\n",
    "        self.student_demands = dict()\n",
    "        self.students_priority = dict()\n",
    "\n",
    "    def __str__(self) -> str:\n",
    "        _str_ = \"\"\n",
    "        _str_ += f\"n: {self.n}, m: {self.m}\"\n",
    "        \n",
    "        return _str_\n",
    "\n",
    "    \n",
    "    def add_edge(self, edge: Edge) -> None:\n",
    "        self.edges.append(edge)\n",
    "        self.nodes[edge.u].add_edge(edge)\n",
    "        self.nodes[edge.v].add_edge(edge)\n",
    "\n",
    "    def set_loose_edge(self, edge_id: int, looseness: int) -> None:\n",
    "        edge = self.edges[edge_id]\n",
    "        edge.set_as_loose(looseness)\n",
    "        self.loose_edges.add(edge)\n",
    "\n",
    "    def set_ziraj(self, node_id: int) -> None:\n",
    "        self.ziraj = node_id\n",
    "        self.nodes[node_id].set_type(NodeType.ZIRAJ)\n",
    "\n",
    "    def add_demand(self, student_id: int, student_node:int, pizza_node: int) -> None:\n",
    "        self.students[student_id] = student_node\n",
    "        self.nodes[student_node].set_type(NodeType.STUDENT)\n",
    "        self.nodes[pizza_node].set_type(NodeType.PIZZA)\n",
    "        self.student_demands[student_node] = pizza_node\n",
    "\n",
    "    def add_priority(self, student1_id: int, student2_id: int) -> None:\n",
    "        if self.students[student1_id] not in self.students_priority:\n",
    "            self.students_priority[self.students[student1_id]] = []\n",
    "        self.students_priority[self.students[student1_id]].append(self.students[student2_id])\n"
   ]
  },
  {
   "cell_type": "markdown",
   "metadata": {},
   "source": [
    "The State class is used to represent a state in the search space. It has the following instance variables:\n",
    "-   ```agent_loc```: The location of the agent (an integer).\n",
    "-   ```done_students```: A set of student locations whose demands have already been satisfied by the agent.\n",
    "-   ```current_pickup```: The Node ID of the pizzaria that the agent is currently carrying a pizza from. This is initially set to None.\n",
    "-   ```loose_status```: A dictionary that maps an ```Edge``` object to the remaining time during which the edge can be traversed. This dictionary represents the looseness status of the edges.\n",
    "-   ```path_so_far```: A list of node IDs that the agent has visited so far.\n",
    "-   ```time_on_node```: The time spent by the agent at the current node (an integer)."
   ]
  },
  {
   "cell_type": "code",
   "execution_count": 4,
   "metadata": {},
   "outputs": [],
   "source": [
    "class State:\n",
    "    agent_loc: int\n",
    "    done_pizzas: set[int]\n",
    "    done_students: set[int]\n",
    "    current_pickup: int\n",
    "    loose_status: dict[int, int]\n",
    "    path_so_far: list[int]\n",
    "    time_on_node: int\n",
    "\n",
    "    def __init__(self, \n",
    "                agent_loc: int, \n",
    "                done_pizzas: set[int], \n",
    "                done_students: set[int], \n",
    "                current_pickup: int,\n",
    "                loose_status: dict[int, int],\n",
    "                path_so_far: list[int],\n",
    "                time_on_node: int, \n",
    "                ):\n",
    "        self.agent_loc = agent_loc\n",
    "        self.done_pizzas = done_pizzas\n",
    "        self.done_students = done_students\n",
    "        self.current_pickup = current_pickup\n",
    "        self.loose_status = loose_status\n",
    "        self.path_so_far = path_so_far\n",
    "        self.time_on_node = time_on_node\n",
    "        \n",
    "    def __eq__(self, other: object) -> bool:\n",
    "        return isinstance(other, State) and (\n",
    "                self.agent_loc == other.agent_loc and \n",
    "                self.done_pizzas == other.done_pizzas and \n",
    "                self.done_students == other.done_students and \n",
    "                self.current_pickup == other.current_pickup and \n",
    "                self.time_on_node == other.time_on_node # and \n",
    "                # self.loose_status == other.loose_status and\n",
    "                # self.path_so_far == other.path_so_far\n",
    "            )\n",
    "    \n",
    "    def __str__(self) -> str:\n",
    "        _str_ = \"\"\n",
    "        _str_ += f\"agent loc: {self.agent_loc}, \"\n",
    "        _str_ += f\"path so far: {self.path_so_far}, \"\n",
    "        _str_ += f\"current pickup: {self.current_pickup}, \"\n",
    "        _str_ += f\"time on node: {self.time_on_node}, \"\n",
    "        _str_ += f\"done pizzas: {self.done_pizzas}, \"\n",
    "        _str_ += f\"done students: {self.done_students}, \"\n",
    "        return _str_\n",
    "\n",
    "    def __hash__(self) -> int:\n",
    "        _str_ = \"\"\n",
    "        _str_ += f\"{self.agent_loc}, \"\n",
    "        _str_ += f\"{self.done_pizzas}, \"\n",
    "        _str_ += f\"{self.done_students}, \"\n",
    "        _str_ += f\"{self.current_pickup}, \"\n",
    "        _str_ += f\"{self.time_on_node}, \"\n",
    "        return hash(_str_)\n",
    "    \n",
    "    def __lt__(self, other: object) -> bool:\n",
    "        return isinstance(other, State) and (\n",
    "                len(self.path_so_far) < len(other.path_so_far) or (\n",
    "                len(self.path_so_far) == len(other.path_so_far) and self.heuristic() > other.heuristic())\n",
    "        )\n",
    "\n",
    "    def heuristic(self) -> float:\n",
    "        pickup = 0 if (self.current_pickup == -1 or self.current_pickup == 0) else 1\n",
    "        return len(self.done_students) + len(self.done_pizzas) + pickup\n",
    "\n",
    "    def relax(self) -> None:\n",
    "        for edge, remaining_time in self.loose_status.items():\n",
    "            if remaining_time > 0:\n",
    "                self.loose_status[edge] = remaining_time - 1\n"
   ]
  },
  {
   "cell_type": "markdown",
   "metadata": {},
   "source": [
    "The ```Search``` class contains an instance of the ```Graph``` class and some methods that are used to solve the problem. \n",
    "-   ```is_goal``` method is used to check whether a given state is a goal state or not.\n",
    "-   ```init_state``` method is used to initialize the initial state of the problem.\n",
    "-   ```can_pickup``` method is used to check whether the agent can pickup a pizza from a given pizzaria or not (based on students priority).\n",
    "-   ```next_states``` method is used to generate the next states from a given state. This method is used by the search algorithms to expand the search space. "
   ]
  },
  {
   "cell_type": "code",
   "execution_count": 5,
   "metadata": {},
   "outputs": [],
   "source": [
    "from copy import deepcopy\n",
    "\n",
    "class Search:\n",
    "    graph: Graph\n",
    "\n",
    "    def __init__(self, graph: Graph):\n",
    "        self.graph = graph\n",
    "\n",
    "    def is_goal(self, state: State) -> bool:\n",
    "        return (len(state.done_students) == len(self.graph.students))\n",
    "\n",
    "    def init_state(self) -> State:\n",
    "        _loose_status_ = {}\n",
    "        for edge in self.graph.loose_edges:\n",
    "            _loose_status_[edge.id] = 0\n",
    "\n",
    "        return State(\n",
    "            agent_loc=self.graph.ziraj,\n",
    "            done_pizzas=set(),\n",
    "            done_students=set(),\n",
    "            current_pickup=-1,\n",
    "            loose_status=_loose_status_,\n",
    "            path_so_far=[self.graph.ziraj],\n",
    "            time_on_node=0,\n",
    "        )\n",
    "    \n",
    "    def can_pickup(self, state: State, pizza: int) -> bool:\n",
    "        # check if we can pickup pizza based on state's students_priority\n",
    "        demanding_student = -1\n",
    "        for key, value in self.graph.student_demands.items():\n",
    "            if value == pizza:\n",
    "                demanding_student = key\n",
    "        if demanding_student == -1:\n",
    "            return False\n",
    "        \n",
    "        for high_priority, low_priorities in self.graph.students_priority.items():\n",
    "            for low_priority in low_priorities:\n",
    "                if demanding_student == low_priority:\n",
    "                    if high_priority not in state.done_students:\n",
    "                        return False\n",
    "\n",
    "        return True\n",
    "\n",
    "    def next_states(self, cur_state: State) -> list[State]:\n",
    "        next_states = []\n",
    "        current_node = self.graph.nodes[cur_state.agent_loc]\n",
    "\n",
    "        # go to adjacent nodes\n",
    "        for edge in current_node.edges:\n",
    "            new_state = deepcopy(cur_state)\n",
    "            next_node = deepcopy(current_node)\n",
    "\n",
    "            if edge.v == current_node.id:\n",
    "                next_node = self.graph.nodes[edge.u]\n",
    "            elif edge.u == current_node.id:\n",
    "                next_node = self.graph.nodes[edge.v]\n",
    "\n",
    "            if edge.type == EdgeType.LOOSE:                    \n",
    "                if cur_state.loose_status[edge.id] > 0:\n",
    "                    # stay on current node\n",
    "                    new_state = deepcopy(cur_state)\n",
    "                    new_state.path_so_far.append(current_node.id)\n",
    "                    new_state.time_on_node += 1\n",
    "                    new_state.relax()\n",
    "                    next_states.append(new_state)\n",
    "                    continue\n",
    "                else:\n",
    "                    new_state.loose_status[edge.id] = edge.looseness + 1\n",
    "\n",
    "            new_state.agent_loc = next_node.id\n",
    "            new_state.path_so_far.append(next_node.id)\n",
    "            new_state.time_on_node = 0\n",
    "\n",
    "            if next_node.type == NodeType.STUDENT:\n",
    "                if next_node.id not in new_state.done_students:\n",
    "                    if new_state.current_pickup == self.graph.student_demands[next_node.id]:\n",
    "                        new_state.done_students.add(next_node.id)\n",
    "                        new_state.done_pizzas.add(new_state.current_pickup)\n",
    "                        new_state.current_pickup = -1\n",
    "            \n",
    "            elif next_node.type == NodeType.PIZZA:\n",
    "                if next_node.id not in new_state.done_pizzas:\n",
    "                    if (self.can_pickup(new_state, next_node.id)):\n",
    "                        # i can pickup pizza here or leave it. both of this states should be added to next_states\n",
    "                        # this handles picking up pizza. leaving it will be handled outside of this scope\n",
    "                        new_state2 = deepcopy(new_state)\n",
    "                        new_state2.current_pickup = next_node.id\n",
    "                        new_state2.relax()\n",
    "                        next_states.append(new_state2)\n",
    "\n",
    "            new_state.relax()\n",
    "            next_states.append(new_state)\n",
    "            \n",
    "        return next_states\n",
    "    "
   ]
  },
  {
   "cell_type": "markdown",
   "metadata": {},
   "source": [
    "## Breadth First Search"
   ]
  },
  {
   "cell_type": "markdown",
   "metadata": {},
   "source": [
    "Now we define the ```BFS``` function. This function is used to solve the problem using the Breadth First Search algorithm. It takes an instance of the ```Search``` class as input and returns a list of node IDs that the agent should visit to deliver all pizzas. If there is no solution, it returns ```None```. \n",
    "\n",
    "The function initializes the initial state and adds it to a frontier list, which initially contains only the initial state. It also initializes an explored set to keep track of states that have been already explored.\n",
    "\n",
    "The function then enters into a loop which continues until the frontier list is non-empty. In each iteration of the loop, the function removes the first state from the frontier list and adds it to the explored set, indicating that it has been visited. The function then generates all the possible next states that can be reached from the current state using the ```next_states``` method of the Search object, and adds only those states which have not been already explored or added to the frontier list.\n",
    "\n",
    "If the current state is a goal state, the function returns the path from the initial state to the goal state. If no goal state is found, the function returns an empty list."
   ]
  },
  {
   "cell_type": "code",
   "execution_count": 6,
   "metadata": {},
   "outputs": [],
   "source": [
    "def BFS(problem: Search) -> tuple[list[int], int]:\n",
    "\n",
    "    init_state = problem.init_state()\n",
    "    if problem.is_goal(init_state):\n",
    "        return init_state.path_so_far, 0\n",
    "\n",
    "    explored = set()\n",
    "    frontier = [init_state]\n",
    "    states_expanded = 0\n",
    "\n",
    "    while frontier:\n",
    "        state = frontier.pop(0)\n",
    "        explored.add(state)\n",
    "        states_expanded += 1\n",
    "\n",
    "        if problem.is_goal(state):\n",
    "            return state.path_so_far, states_expanded\n",
    "\n",
    "        for next_state in problem.next_states(state):\n",
    "            if next_state not in explored and next_state not in frontier:\n",
    "                if problem.is_goal(next_state):\n",
    "                    return next_state.path_so_far, states_expanded\n",
    "                frontier.append(next_state)\n",
    "\n",
    "    return [], states_expanded\n"
   ]
  },
  {
   "cell_type": "markdown",
   "metadata": {},
   "source": [
    "## Iterative Deepening Search"
   ]
  },
  {
   "cell_type": "markdown",
   "metadata": {},
   "source": [
    "The following function is used to solve the problem using the Iterative Deepening Search algorithm. It takes an instance of the ```Search``` class as input and returns a list of node IDs that the agent should visit to deliver all pizzas. If there is no solution, it returns ```None```. \n",
    "\n",
    "We Use ```Depth Limited Search``` to implement ```Iterative Deepening Search```. The ```Depth Limited Search``` function takes an instance of the ```Search``` class and a depth limit as input and returns a list of node IDs that the agent should visit to deliver all pizzas. If there is no solution, it returns ```None```. \n",
    "\n",
    "In each iteration of the ```IDS``` loop, the function calls the ```DLS``` function with the current depth limit. If the ```DLS``` function returns a non-empty list, it means that a solution has been found and the function returns the solution. Otherwise, it increases the depth limit by 1 and continues the loop."
   ]
  },
  {
   "cell_type": "code",
   "execution_count": 7,
   "metadata": {},
   "outputs": [],
   "source": [
    "def DLS(problem: Search, limit:int) -> tuple[list[int], int]:\n",
    "\n",
    "    init_state = problem.init_state()\n",
    "    if problem.is_goal(init_state):\n",
    "        return init_state.path_so_far, 0\n",
    "\n",
    "    explored: dict[State, int] = {}\n",
    "    depth = 0\n",
    "    frontier: list[(State, int)] = [(init_state, depth)]\n",
    "    states_expanded = 0\n",
    "\n",
    "    while frontier:\n",
    "        # pop from the end of the list\n",
    "        state, depth = frontier.pop()\n",
    "        explored[state] = depth\n",
    "        states_expanded += 1\n",
    "\n",
    "        if problem.is_goal(state):\n",
    "            return state.path_so_far, states_expanded\n",
    "\n",
    "        if depth >= limit:\n",
    "            continue\n",
    "\n",
    "        for next_state in problem.next_states(state):\n",
    "            if (next_state, depth + 1) not in frontier:\n",
    "                if next_state not in explored or explored[next_state] > depth + 1:\n",
    "                    explored[next_state] = depth\n",
    "                    if problem.is_goal(next_state):\n",
    "                        return next_state.path_so_far, states_expanded\n",
    "                    frontier.append((next_state, depth + 1))\n",
    "\n",
    "    return [], states_expanded\n",
    "\n",
    "def IDS(problem: Search) -> tuple[list[int], int]:\n",
    "    limit = 0\n",
    "    states_expanded_sum = 0\n",
    "    while True:\n",
    "        print(\"::: limit=\", limit, \",\", end=\" \")\n",
    "        path, states_expanded = DLS(problem, limit)\n",
    "        states_expanded_sum += states_expanded\n",
    "        if path:\n",
    "            print(\":::\")\n",
    "            return path, states_expanded\n",
    "        limit += 1\n"
   ]
  },
  {
   "cell_type": "markdown",
   "metadata": {},
   "source": [
    "## (Weighted) A* Search"
   ]
  },
  {
   "cell_type": "markdown",
   "metadata": {},
   "source": [
    "To solve the problem using the A* Search algorithm, we need to define a heuristic function. The heuristic function takes a state as input and returns an estimate of the cost of the cheapest path from the state to a goal state. In this problem, we define the heuristic function as follows:"
   ]
  },
  {
   "cell_type": "code",
   "execution_count": 8,
   "metadata": {},
   "outputs": [],
   "source": [
    "def heuristic(state: State, problem: Search) -> float:\n",
    "    pickup = 0 if (state.current_pickup == -1 or state.current_pickup == 0) else 1\n",
    "    return (len(problem.graph.students) - len(state.done_students)) + (len(problem.graph.student_demands) - len(state.done_pizzas) - pickup)\n"
   ]
  },
  {
   "cell_type": "markdown",
   "metadata": {},
   "source": [
    "The function first checks if the current pickup is valid or not. If it is not, the value of the pickup is set as 0, and if it is valid, the value is set as 1.\n",
    "\n",
    "Then, the function calculates the heuristic value used to guide the search process to the solution. The function first calculates the difference between the length of all the students in the graph and the length of the done students in the current state, which is the number of students yet to receive their pizza. This value gives an estimate of the remaining work to be done.\n",
    "\n",
    "Next, the function calculates the difference between the length of all the student demands in the graph and the length of the done pizzas in the current state, which is the number of pizzas yet to be delivered. This value also gives an estimate of the remaining work to be done.\n",
    "\n",
    "Finally, the function subtracts the pickup value calculated earlier from the above two values and returns the resulting float value as the heuristic estimate for the remaining effort to reach the goal state.\n",
    "\n",
    "The output of the heuristic function is definitely an underestimate of the remaining effort to reach the goal state. \n",
    "\n",
    "No matter what action we do, our heuristic function value will change by at most 1. This is because the heuristic function value is calculated based on the number of students and pizzas that have not been delivered yet. If we deliver a pizza to a student, the number of students and pizzas that have not been delivered will decrease by 1 by the pickup value will increase by 1. Also our cost for each action is 1, so by the definition of consistency: \n",
    "$$ Cost(A\\ to\\ B) \\geq h(A) - h(B) $$\n",
    "And thus, our heuristic function is consistent and therefore admissible.\n"
   ]
  },
  {
   "cell_type": "markdown",
   "metadata": {},
   "source": [
    "The ```frontier_insert``` function is used to insert a state into the frontier list. It takes a state and a list of states as input and updates the list of states. \n",
    "\n",
    "This function inserts the state into the list in a way that the list remains sorted based on the sum of the cost of the path from the initial state to the state and the heuristic value of the state."
   ]
  },
  {
   "cell_type": "code",
   "execution_count": 9,
   "metadata": {},
   "outputs": [],
   "source": [
    "def frontier_insert(frontier: list[State], state: State, problem: Search, alpha: float):\n",
    "    if len(frontier) == 0:\n",
    "        frontier.append(state)\n",
    "        return\n",
    "\n",
    "    state_est = alpha * heuristic(state, problem) + len(state.path_so_far)\n",
    "    for i in range(len(frontier)):\n",
    "        curr_est = alpha * heuristic(frontier[i], problem) + len(frontier[i].path_so_far)\n",
    "        if curr_est < state_est:\n",
    "            frontier.insert(i, state)\n",
    "            return\n",
    "\n",
    "    frontier.append(state)\n"
   ]
  },
  {
   "cell_type": "markdown",
   "metadata": {},
   "source": [
    "finally, the ```A*``` function is used to solve the problem using the A* Search algorithm. It takes an instance of the ```Search``` class as input and returns a list of node IDs that the agent should visit to deliver all pizzas. If there is no solution, it returns ```None```.\n",
    "\n",
    "The function initializes the initial state and adds it to a frontier list, which initially contains only the initial state. It also initializes an explored set to keep track of states that have been already explored.\n",
    "\n",
    "The function then enters into a loop which continues until the frontier list is non-empty. In each iteration of the loop, the function removes the first state from the frontier list and adds it to the explored set, indicating that it has been visited. The function then generates all the possible next states that can be reached from the current state using the ```next_states``` method of the Search object, and adds only those states which have not been already explored or added to the frontier list."
   ]
  },
  {
   "cell_type": "code",
   "execution_count": 10,
   "metadata": {},
   "outputs": [],
   "source": [
    "def ASTAR(problem: Search, alpha: float=1) -> tuple[list[int], int]:\n",
    "    init_state = problem.init_state()\n",
    "    if problem.is_goal(init_state):\n",
    "        return init_state.path_so_far, 0\n",
    "\n",
    "    explored = set()\n",
    "    frontier = [init_state]\n",
    "    states_expanded = 0\n",
    "\n",
    "    while frontier:\n",
    "        state = frontier.pop()\n",
    "        explored.add(state)\n",
    "        states_expanded += 1\n",
    "\n",
    "        if problem.is_goal(state):\n",
    "            return state.path_so_far, states_expanded\n",
    "\n",
    "        for next_state in problem.next_states(state):\n",
    "            if next_state not in explored and next_state not in frontier:\n",
    "                frontier_insert(frontier, next_state, problem, alpha)\n",
    "\n",
    "    return [], states_expanded\n",
    "    "
   ]
  },
  {
   "cell_type": "markdown",
   "metadata": {},
   "source": [
    "## Results"
   ]
  },
  {
   "cell_type": "markdown",
   "metadata": {},
   "source": [
    "The ```get_input``` function is used to read the input from the input file and create an instance of the ```Search``` class. It takes the name of the input file as input and returns an instance of the ```Search``` class."
   ]
  },
  {
   "cell_type": "code",
   "execution_count": 11,
   "metadata": {},
   "outputs": [],
   "source": [
    "def get_input(testcase_path: str) -> Search:\n",
    "    file = open(testcase_path, \"r\")\n",
    "    \n",
    "    n, m = map(int, file.readline().split())\n",
    "    graph = Graph(n, m)\n",
    "\n",
    "    for i in range(m):\n",
    "        u, v = map(int, file.readline().split())\n",
    "        edge = Edge(i, u-1, v-1)\n",
    "        graph.add_edge(edge)\n",
    "\n",
    "    h = int(file.readline())\n",
    "    for _ in range(h):\n",
    "        i, xi = map(int, file.readline().split())\n",
    "        graph.set_loose_edge(i-1, xi)\n",
    "\n",
    "    v = int(file.readline())\n",
    "    graph.set_ziraj(v-1)\n",
    "\n",
    "    s = int(file.readline())\n",
    "    for student_id in range(1, s+1):\n",
    "        p, q = map(int, file.readline().split())\n",
    "        graph.add_demand(student_id, p-1, q-1)\n",
    "        \n",
    "    t = int(file.readline())\n",
    "    for i in range(1, t+1):\n",
    "        a, b = map(int, file.readline().split())\n",
    "        graph.add_priority(a, b)\n",
    "\n",
    "    file.close()\n",
    "    return Search(graph)\n"
   ]
  },
  {
   "cell_type": "markdown",
   "metadata": {},
   "source": [
    "The ```run``` function will run a search algorithm and prints some information such as the found solution, the number of nodes expanded, and the time taken to find the solution."
   ]
  },
  {
   "cell_type": "code",
   "execution_count": 12,
   "metadata": {},
   "outputs": [],
   "source": [
    "import time\n",
    "from typing import Callable\n",
    "\n",
    "TESTCASES_PATH = \"testcase/\"\n",
    "TESTS_REPEAT = 1\n",
    "TESTS_START = 0\n",
    "TESTS_COUNT = 3\n",
    "\n",
    "def run(algorithm: Callable[[Search], tuple[list[int], int]]) -> None:\n",
    "    for i in range(TESTS_START, TESTS_START + TESTS_COUNT):\n",
    "        testcase_path = TESTCASES_PATH + str(i+1) + \".txt\"\n",
    "        search = get_input(testcase_path)\n",
    "        duration = 0\n",
    "        path = []\n",
    "        nodes_expanded = 0\n",
    "        for j in range(TESTS_REPEAT):\n",
    "            start = time.time()\n",
    "            path, nodes_expanded = algorithm(search)\n",
    "            end = time.time()\n",
    "            duration += end - start\n",
    "        duration /= TESTS_REPEAT\n",
    "\n",
    "        print(\"testcase\", i+1)\n",
    "        if len(path) == 0:\n",
    "            print(\"no path found\")\n",
    "        \n",
    "        print(\"path cost:\", len(path))\n",
    "        for j in range (len(path)):\n",
    "            if (j == len(path) - 1):\n",
    "                print(path[j] + 1)\n",
    "                break\n",
    "            print(path[j] + 1,\"->\", end=\" \")\n",
    "    \n",
    "        print(\"nodes expanded:\", nodes_expanded)\n",
    "        print(\"duration:\", duration)\n",
    "        if i != (TESTS_START + TESTS_COUNT - 1):\n",
    "            print(\"---------------------------------\")\n",
    "        "
   ]
  },
  {
   "cell_type": "markdown",
   "metadata": {},
   "source": [
    "Now we can run the search algorithms on the input files and see the results."
   ]
  },
  {
   "cell_type": "code",
   "execution_count": 13,
   "metadata": {},
   "outputs": [
    {
     "name": "stdout",
     "output_type": "stream",
     "text": [
      "Testing BFS algorithm:\n",
      "\n",
      "testcase 1\n",
      "path cost: 11\n",
      "6 -> 4 -> 10 -> 5 -> 3 -> 8 -> 9 -> 1 -> 7 -> 9 -> 2\n",
      "nodes expanded: 229\n",
      "duration: 0.07977700233459473\n",
      "---------------------------------\n",
      "testcase 2\n",
      "path cost: 21\n",
      "14 -> 9 -> 4 -> 15 -> 12 -> 3 -> 12 -> 6 -> 14 -> 1 -> 14 -> 12 -> 3 -> 8 -> 6 -> 4 -> 10 -> 11 -> 8 -> 3 -> 13\n",
      "nodes expanded: 933\n",
      "duration: 0.4219381809234619\n",
      "---------------------------------\n",
      "testcase 3\n",
      "path cost: 32\n",
      "15 -> 14 -> 8 -> 20 -> 13 -> 8 -> 18 -> 10 -> 8 -> 9 -> 16 -> 5 -> 15 -> 12 -> 3 -> 19 -> 11 -> 19 -> 13 -> 6 -> 13 -> 1 -> 13 -> 8 -> 17 -> 8 -> 18 -> 2 -> 18 -> 4 -> 14 -> 16\n",
      "nodes expanded: 21556\n",
      "duration: 16.32559299468994\n",
      "\n",
      "================================================================================\n",
      "\n"
     ]
    }
   ],
   "source": [
    "from functools import partial\n",
    "\n",
    "print(\"Testing BFS algorithm:\")\n",
    "print()\n",
    "run(BFS)\n",
    "print()\n",
    "print(\"================================================================================\")\n",
    "print()\n"
   ]
  },
  {
   "cell_type": "code",
   "execution_count": 14,
   "metadata": {},
   "outputs": [
    {
     "name": "stdout",
     "output_type": "stream",
     "text": [
      "Testing ASTAR algorithm with alpha=1\n",
      "\n",
      "testcase 1\n",
      "path cost: 11\n",
      "6 -> 4 -> 10 -> 9 -> 7 -> 9 -> 2 -> 9 -> 1 -> 3 -> 8\n",
      "nodes expanded: 104\n",
      "duration: 0.04292726516723633\n",
      "---------------------------------\n",
      "testcase 2\n",
      "path cost: 21\n",
      "14 -> 9 -> 4 -> 15 -> 12 -> 14 -> 1 -> 14 -> 6 -> 12 -> 3 -> 8 -> 6 -> 8 -> 6 -> 4 -> 10 -> 11 -> 10 -> 4 -> 13\n",
      "nodes expanded: 583\n",
      "duration: 0.2633938789367676\n",
      "---------------------------------\n",
      "testcase 3\n",
      "path cost: 32\n",
      "15 -> 14 -> 4 -> 20 -> 13 -> 10 -> 18 -> 10 -> 8 -> 9 -> 15 -> 5 -> 16 -> 12 -> 3 -> 19 -> 11 -> 19 -> 13 -> 6 -> 13 -> 1 -> 13 -> 19 -> 17 -> 8 -> 20 -> 2 -> 20 -> 4 -> 14 -> 16\n",
      "nodes expanded: 14259\n",
      "duration: 19.553257703781128\n",
      "\n",
      "================================================================================\n",
      "\n"
     ]
    }
   ],
   "source": [
    "print(\"Testing ASTAR algorithm with alpha=1\")\n",
    "print()\n",
    "run(partial(ASTAR, alpha=1))\n",
    "print()\n",
    "print(\"================================================================================\")\n",
    "print()\n"
   ]
  },
  {
   "cell_type": "code",
   "execution_count": 15,
   "metadata": {},
   "outputs": [
    {
     "name": "stdout",
     "output_type": "stream",
     "text": [
      "Testing ASTAR algorithm with alpha=1.2\n",
      "\n",
      "testcase 1\n",
      "path cost: 11\n",
      "6 -> 4 -> 10 -> 9 -> 1 -> 3 -> 8 -> 9 -> 7 -> 9 -> 2\n",
      "nodes expanded: 41\n",
      "duration: 0.017982959747314453\n",
      "---------------------------------\n",
      "testcase 2\n",
      "path cost: 21\n",
      "14 -> 9 -> 4 -> 15 -> 12 -> 14 -> 1 -> 14 -> 6 -> 12 -> 3 -> 8 -> 6 -> 8 -> 6 -> 4 -> 10 -> 11 -> 10 -> 4 -> 13\n",
      "nodes expanded: 534\n",
      "duration: 0.24036836624145508\n",
      "---------------------------------\n",
      "testcase 3\n",
      "path cost: 32\n",
      "15 -> 14 -> 4 -> 20 -> 13 -> 10 -> 18 -> 10 -> 8 -> 9 -> 15 -> 5 -> 16 -> 12 -> 3 -> 19 -> 11 -> 19 -> 13 -> 6 -> 13 -> 1 -> 13 -> 19 -> 17 -> 8 -> 20 -> 2 -> 20 -> 4 -> 14 -> 16\n",
      "nodes expanded: 11908\n",
      "duration: 13.431561470031738\n",
      "\n",
      "================================================================================\n",
      "\n"
     ]
    }
   ],
   "source": [
    "print(\"Testing ASTAR algorithm with alpha=1.2\")\n",
    "print()\n",
    "run(partial(ASTAR, alpha=1.2))\n",
    "print()\n",
    "print(\"================================================================================\")\n",
    "print()\n"
   ]
  },
  {
   "cell_type": "code",
   "execution_count": 16,
   "metadata": {},
   "outputs": [
    {
     "name": "stdout",
     "output_type": "stream",
     "text": [
      "Testing ASTAR algorithm with alpha=4\n",
      "\n",
      "testcase 1\n",
      "path cost: 12\n",
      "6 -> 9 -> 1 -> 4 -> 10 -> 9 -> 7 -> 9 -> 2 -> 8 -> 3 -> 8\n",
      "nodes expanded: 16\n",
      "duration: 0.00997304916381836\n",
      "---------------------------------\n",
      "testcase 2\n",
      "path cost: 22\n",
      "14 -> 9 -> 4 -> 15 -> 12 -> 3 -> 8 -> 6 -> 8 -> 6 -> 4 -> 7 -> 14 -> 1 -> 14 -> 12 -> 3 -> 5 -> 11 -> 8 -> 3 -> 13\n",
      "nodes expanded: 63\n",
      "duration: 0.030948400497436523\n",
      "---------------------------------\n",
      "testcase 3\n",
      "path cost: 35\n",
      "15 -> 14 -> 4 -> 20 -> 8 -> 20 -> 2 -> 20 -> 13 -> 10 -> 18 -> 10 -> 8 -> 9 -> 15 -> 5 -> 16 -> 12 -> 3 -> 19 -> 11 -> 19 -> 13 -> 6 -> 13 -> 1 -> 4 -> 14 -> 16 -> 14 -> 4 -> 1 -> 13 -> 19 -> 17\n",
      "nodes expanded: 127\n",
      "duration: 0.09068989753723145\n",
      "\n",
      "================================================================================\n",
      "\n"
     ]
    }
   ],
   "source": [
    "print(\"Testing ASTAR algorithm with alpha=4\")\n",
    "print()\n",
    "run(partial(ASTAR, alpha=4))\n",
    "print()\n",
    "print(\"================================================================================\")\n",
    "print()\n"
   ]
  },
  {
   "cell_type": "code",
   "execution_count": 17,
   "metadata": {},
   "outputs": [
    {
     "name": "stdout",
     "output_type": "stream",
     "text": [
      "Testing IDS algorithm:\n",
      "\n",
      "::: limit= 0 , ::: limit= 1 , ::: limit= 2 , ::: limit= 3 , ::: limit= 4 , ::: limit= 5 , ::: limit= 6 , ::: limit= 7 , ::: limit= 8 , ::: limit= 9 , ::: limit= 10 , :::\n",
      "testcase 1\n",
      "path cost: 11\n",
      "6 -> 4 -> 10 -> 9 -> 7 -> 9 -> 2 -> 9 -> 1 -> 3 -> 8\n",
      "nodes expanded: 370\n",
      "duration: 0.4597194194793701\n",
      "---------------------------------\n",
      "::: limit= 0 , ::: limit= 1 , ::: limit= 2 , ::: limit= 3 , ::: limit= 4 , ::: limit= 5 , ::: limit= 6 , ::: limit= 7 , ::: limit= 8 , ::: limit= 9 , ::: limit= 10 , ::: limit= 11 , ::: limit= 12 , ::: limit= 13 , ::: limit= 14 , ::: limit= 15 , ::: limit= 16 , ::: limit= 17 , ::: limit= 18 , ::: limit= 19 , ::: limit= 20 , :::\n",
      "testcase 2\n",
      "path cost: 21\n",
      "14 -> 9 -> 4 -> 15 -> 4 -> 7 -> 14 -> 1 -> 14 -> 12 -> 3 -> 8 -> 6 -> 8 -> 6 -> 4 -> 10 -> 11 -> 5 -> 3 -> 13\n",
      "nodes expanded: 3310\n",
      "duration: 6.725808143615723\n",
      "---------------------------------\n",
      "::: limit= 0 , ::: limit= 1 , ::: limit= 2 , ::: limit= 3 , ::: limit= 4 , ::: limit= 5 , ::: limit= 6 , ::: limit= 7 , ::: limit= 8 , ::: limit= 9 , ::: limit= 10 , ::: limit= 11 , ::: limit= 12 , ::: limit= 13 , ::: limit= 14 , ::: limit= 15 , ::: limit= 16 , ::: limit= 17 , ::: limit= 18 , ::: limit= 19 , ::: limit= 20 , ::: limit= 21 , ::: limit= 22 , ::: limit= 23 , ::: limit= 24 , ::: limit= 25 , ::: limit= 26 , ::: limit= 27 , ::: limit= 28 , ::: limit= 29 , ::: limit= 30 , ::: limit= 31 , :::\n",
      "testcase 3\n",
      "path cost: 32\n",
      "15 -> 14 -> 4 -> 20 -> 13 -> 10 -> 18 -> 10 -> 8 -> 9 -> 15 -> 5 -> 17 -> 19 -> 3 -> 19 -> 11 -> 19 -> 13 -> 6 -> 13 -> 1 -> 13 -> 19 -> 17 -> 8 -> 20 -> 2 -> 20 -> 4 -> 14 -> 16\n",
      "nodes expanded: 171482\n",
      "duration: 817.0432524681091\n",
      "\n",
      "================================================================================\n",
      "\n"
     ]
    }
   ],
   "source": [
    "print(\"Testing IDS algorithm:\")\n",
    "print()\n",
    "run(IDS)\n",
    "print()\n",
    "print(\"================================================================================\")\n",
    "print()\n"
   ]
  },
  {
   "attachments": {},
   "cell_type": "markdown",
   "metadata": {},
   "source": [
    "### 1.txt\n",
    "\n",
    "| Algorithm | Path Lenght | Expanded States | Run Time |\n",
    "| :---------------: | :-: | :-------------: | :------: |\n",
    "| BFS               | 11  | 229             | 0.07977  |\n",
    "| IDS               | 11  | 370             | 0.45971  |\n",
    "| A*                | 11  | 104             | 0.04292  |\n",
    "| A* (alpha=1.2)    | 11  | 41              | 0.01798  |\n",
    "| A* (alpha=4)      | 12  | 16              | 0.00997  |"
   ]
  },
  {
   "attachments": {},
   "cell_type": "markdown",
   "metadata": {},
   "source": [
    "### 2.txt\n",
    "\n",
    "| Algorithm | Path Lenght | Expanded States | Run Time |\n",
    "| :---------------: | :-: | :-------------: | :------: |\n",
    "| BFS               | 21  | 933             | 0.42193  |\n",
    "| IDS               | 21  | 3310            | 6.72580  |\n",
    "| A*                | 21  | 583             | 0.26339  |\n",
    "| A* (alpha=1.2)    | 21  | 534             | 0.24036  |\n",
    "| A* (alpha=4)      | 22  | 63              | 0.03094  |"
   ]
  },
  {
   "attachments": {},
   "cell_type": "markdown",
   "metadata": {},
   "source": [
    "### 3.txt\n",
    "\n",
    "| Algorithm | Path Lenght | Expanded States | Run Time |\n",
    "| :---------------: | :-: | :-------------: | :------: |\n",
    "| BFS               | 32  | 21556           | 16.3255  |\n",
    "| IDS               | 32  | 171482          | 817.043  |\n",
    "| A*                | 32  | 14259           | 19.5532  |\n",
    "| A* (alpha=1.2)    | 32  | 11908           | 13.4315  |\n",
    "| A* (alpha=4)      | 35  | 127             | 0.09068  |"
   ]
  },
  {
   "cell_type": "markdown",
   "metadata": {},
   "source": [
    "BFS and IDS will always find the optimal solution.\n",
    "A* will find the optimal solution if the heuristic function is admissible and consistent.\n",
    "Weighted A* may not always find the optimal solution, but it will find a close solution to the optimal solution based on the value of alpha and it will be much faster than A*.\n",
    "\n",
    "The IDS is the slowest algorithm, but it uses the least amount of memory."
   ]
  }
 ],
 "metadata": {
  "kernelspec": {
   "display_name": "Python 3 (ipykernel)",
   "language": "python",
   "name": "python3"
  },
  "language_info": {
   "codemirror_mode": {
    "name": "ipython",
    "version": 3
   },
   "file_extension": ".py",
   "mimetype": "text/x-python",
   "name": "python",
   "nbconvert_exporter": "python",
   "pygments_lexer": "ipython3",
   "version": "3.9.12"
  },
  "vscode": {
   "interpreter": {
    "hash": "11938c6bc6919ae2720b4d5011047913343b08a43b18698fd82dedb0d4417594"
   }
  }
 },
 "nbformat": 4,
 "nbformat_minor": 2
}
